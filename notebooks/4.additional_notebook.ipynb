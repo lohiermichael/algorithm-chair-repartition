{
 "metadata": {
  "language_info": {
   "codemirror_mode": {
    "name": "ipython",
    "version": 3
   },
   "file_extension": ".py",
   "mimetype": "text/x-python",
   "name": "python",
   "nbconvert_exporter": "python",
   "pygments_lexer": "ipython3",
   "version": 3
  },
  "orig_nbformat": 2,
  "kernelspec": {
   "name": "python_defaultSpec_1595238248287",
   "display_name": "Python 3.8.3 64-bit ('chair-detection': conda)"
  }
 },
 "nbformat": 4,
 "nbformat_minor": 2,
 "cells": [
  {
   "cell_type": "markdown",
   "metadata": {},
   "source": [
    "# Additional notebook\n",
    "\n",
    "In this notebook we are going to deal with the following topics:\n",
    "- The side cases\n",
    "- Ideas of improvement"
   ]
  },
  {
   "cell_type": "code",
   "execution_count": 1,
   "metadata": {},
   "outputs": [],
   "source": [
    "from utils_notebook import get_project_root, notebook_print_of\n",
    "\n",
    "ROOT = get_project_root()\n",
    "EXAMPLES_FOLDER = str(ROOT) + '/explanatory_rooms'"
   ]
  },
  {
   "cell_type": "markdown",
   "metadata": {},
   "source": [
    "## The side cases"
   ]
  },
  {
   "cell_type": "markdown",
   "metadata": {},
   "source": [
    "### One problem in my algorithm\n",
    "\n",
    "In the notebook **2.solution_explanation** I mentioned a side case that may arrive in the case of an exploration with vertical moves that my code was not handeling. Let's tackle this problem.\n",
    "\n",
    "Here is the situation:"
   ]
  },
  {
   "cell_type": "code",
   "execution_count": 2,
   "metadata": {},
   "outputs": [
    {
     "output_type": "execute_result",
     "data": {
      "text/plain": "['+-----------+------------------------------------+',\n '|           |                                    |',\n '| (closet)  |                                    |',\n '|           |                                    |',\n '+-----------+                       S            |',\n '            |              (sleeping room)       |',\n '            |                                    |',\n '            +------------------------------------+']"
     },
     "metadata": {},
     "execution_count": 2
    }
   ],
   "source": [
    "notebook_print_of(f'{EXAMPLES_FOLDER}/15.side_case_explanation_1.txt')"
   ]
  },
  {
   "cell_type": "markdown",
   "metadata": {},
   "source": [
    "If you remember, the first operation of the function `explore_vertical_moves()` is to:\n",
    "\n",
    "Check if the column we are going to move on, contains the room name. In this case, it does, but the function `is_room_on_same_column()` will return a `False` state because, the chair letter is on the same column as a space of the room name.\n",
    "\n",
    "S will then move up and down until being at this empty space "
   ]
  },
  {
   "cell_type": "code",
   "execution_count": 3,
   "metadata": {},
   "outputs": [
    {
     "output_type": "execute_result",
     "data": {
      "text/plain": "['+-----------+------------------------------------+',\n '|           |                                    |',\n '| (closet)  |                                    |',\n '|           |                                    |',\n '+-----------+                                    |',\n '            |              (sleepingSroom)       |',\n '            |                                    |',\n '            +------------------------------------+']"
     },
     "metadata": {},
     "execution_count": 3
    }
   ],
   "source": [
    "notebook_print_of(f'{EXAMPLES_FOLDER}/16.side_case_explanation_2.txt')"
   ]
  },
  {
   "cell_type": "markdown",
   "metadata": {},
   "source": [
    "In this situation, the vertical check performed by `is_room_on_same_row()` will be `False` too because, it is only `True` if the chair is after a `)` or before a `)` , in other words out if the word. \n",
    "\n",
    "In will finish the vertical exploration without finding the room name."
   ]
  },
  {
   "cell_type": "markdown",
   "metadata": {},
   "source": [
    "However, my algorithm performs both vertical and horizontal explorations and will eventually find the room name, moving this way."
   ]
  },
  {
   "cell_type": "code",
   "execution_count": 4,
   "metadata": {},
   "outputs": [
    {
     "output_type": "execute_result",
     "data": {
      "text/plain": "['+-----------+------------------------------------+',\n '|           |                       3            |',\n '| (closet)  |                       2            |',\n '|           |                       1            |',\n '+-----------+                      6S            |',\n '            |              (sleeping4room)       |',\n '            |                       5            |',\n '            +------------------------------------+']"
     },
     "metadata": {},
     "execution_count": 4
    }
   ],
   "source": [
    "notebook_print_of(f'{EXAMPLES_FOLDER}/17.side_case_explanation_3.txt')"
   ]
  },
  {
   "cell_type": "markdown",
   "metadata": {},
   "source": [
    "I thought a long time on how to change my code while keeping its simplicity. But I finally decided to leave it as is for the following reasons:\n",
    "\n",
    "1. It gives the correct result at the end\n",
    "2. The solutions I found to give an exepected output would have made the code less readable:\n",
    "    - if I had made more complex functions, it would have been more complex to explain\n",
    "    - if I had renamed the functions names: \n",
    "        - `is_room_on_same_row()` by `is_room_on_same_row_except_in_the_name()`\n",
    "        - `is_room_on_same_column()` by `is_room_on_same_column_except_above_or_under_space()`\n",
    "        It would have been really pompous.\n",
    "3. Finally, I see my code comprehensive enough in this case performing both vertical and horizontal explorations to handle an unexpected case. I see this approach similar to a **try-catch**."
   ]
  },
  {
   "cell_type": "markdown",
   "metadata": {},
   "source": [
    "### Other side cases \n",
    "\n",
    "The above  case is the only one that I found where my algorithm didn't work as expected. There might exists other cases. To find them, this would require testing more."
   ]
  },
  {
   "cell_type": "markdown",
   "metadata": {},
   "source": []
  }
 ]
}