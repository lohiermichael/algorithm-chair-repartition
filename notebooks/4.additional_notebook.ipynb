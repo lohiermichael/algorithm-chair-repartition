{
 "metadata": {
  "language_info": {
   "codemirror_mode": {
    "name": "ipython",
    "version": 3
   },
   "file_extension": ".py",
   "mimetype": "text/x-python",
   "name": "python",
   "nbconvert_exporter": "python",
   "pygments_lexer": "ipython3",
   "version": 3
  },
  "orig_nbformat": 2,
  "kernelspec": {
   "name": "python_defaultSpec_1595242549071",
   "display_name": "Python 3.8.3 64-bit ('chair-detection': conda)"
  }
 },
 "nbformat": 4,
 "nbformat_minor": 2,
 "cells": [
  {
   "cell_type": "markdown",
   "metadata": {},
   "source": [
    "# Additional notebook\n",
    "\n",
    "In this notebook we are going to deal with the following topics:\n",
    "- The side cases\n",
    "- Other algorithmic approaches\n",
    "- Ideas for improvement"
   ]
  },
  {
   "cell_type": "code",
   "execution_count": 1,
   "metadata": {},
   "outputs": [],
   "source": [
    "from utils_notebook import get_project_root, notebook_print_of\n",
    "\n",
    "ROOT = get_project_root()\n",
    "EXAMPLES_FOLDER = str(ROOT) + '/explanatory_rooms'"
   ]
  },
  {
   "cell_type": "markdown",
   "metadata": {},
   "source": [
    "## The side cases"
   ]
  },
  {
   "cell_type": "markdown",
   "metadata": {},
   "source": [
    "### One problem in my algorithm\n",
    "\n",
    "In the notebook **2.solution_explanation.ipynb** I mentioned a side case that may happen in the case of an exploration with vertical moves. Let's tackle this problem.\n",
    "\n",
    "Here is the situation:"
   ]
  },
  {
   "cell_type": "code",
   "execution_count": 2,
   "metadata": {},
   "outputs": [
    {
     "output_type": "execute_result",
     "data": {
      "text/plain": "['+-----------+------------------------------------+',\n '|           |                                    |',\n '| (closet)  |                                    |',\n '|           |                                    |',\n '+-----------+                       S            |',\n '            |              (sleeping room)       |',\n '            |                                    |',\n '            +------------------------------------+']"
     },
     "metadata": {},
     "execution_count": 2
    }
   ],
   "source": [
    "notebook_print_of(f'{EXAMPLES_FOLDER}/15.side_case_explanation_1.txt')"
   ]
  },
  {
   "cell_type": "markdown",
   "metadata": {},
   "source": [
    "If you remember, the first operation of the function `explore_vertical_moves()` is to:\n",
    "\n",
    "Check if the column, we are going to move on, contains the room name. In this case, it does, but the function `is_room_on_same_column()` will return `False` because, the chair letter is on the same column as a `' '` of the room name.\n",
    "\n",
    "S will then move up and down until being at this empty space "
   ]
  },
  {
   "cell_type": "code",
   "execution_count": 3,
   "metadata": {},
   "outputs": [
    {
     "output_type": "execute_result",
     "data": {
      "text/plain": "['+-----------+------------------------------------+',\n '|           |                                    |',\n '| (closet)  |                                    |',\n '|           |                                    |',\n '+-----------+                                    |',\n '            |              (sleepingSroom)       |',\n '            |                                    |',\n '            +------------------------------------+']"
     },
     "metadata": {},
     "execution_count": 3
    }
   ],
   "source": [
    "notebook_print_of(f'{EXAMPLES_FOLDER}/16.side_case_explanation_2.txt')"
   ]
  },
  {
   "cell_type": "markdown",
   "metadata": {},
   "source": [
    "In this situation, the horizontal check performed by `is_room_on_same_row()` will be `False` too because, it is only `True` if the chair is after a `)` or before a `(` , in other words out if the word. \n",
    "\n",
    "The vertical exploration will terminate without finding the room name."
   ]
  },
  {
   "cell_type": "markdown",
   "metadata": {},
   "source": [
    "However, my algorithm performs both vertical and horizontal explorations and will eventually find the room name, with horizontal exploration."
   ]
  },
  {
   "cell_type": "code",
   "execution_count": 4,
   "metadata": {},
   "outputs": [
    {
     "output_type": "execute_result",
     "data": {
      "text/plain": "['+-----------+------------------------------------+',\n '|           |                       3            |',\n '| (closet)  |                       2            |',\n '|           |                       1            |',\n '+-----------+                      6S            |',\n '            |              (sleeping4room)       |',\n '            |                       5            |',\n '            +------------------------------------+']"
     },
     "metadata": {},
     "execution_count": 4
    }
   ],
   "source": [
    "notebook_print_of(f'{EXAMPLES_FOLDER}/17.side_case_explanation_3.txt')"
   ]
  },
  {
   "cell_type": "markdown",
   "metadata": {},
   "source": [
    "I thought a long time on how to change my code while keeping its simplicity. But I finally decided to leave it as is for the following reasons:\n",
    "\n",
    "1. It gives the correct result at the end\n",
    "\n",
    "2. The solutions I found to give an exepected output would have made the code less readable:\n",
    "    - if I had made more complex functions, it would have been more complex to explain\n",
    "    - if I had renamed the functions names: \n",
    "        - `is_room_on_same_row()` by `is_room_on_same_row_except_in_the_name()`\n",
    "        - `is_room_on_same_column()` by `is_room_on_same_column_except_above_or_under_space()`\n",
    "        It would have been really pompous.\n",
    "        \n",
    "3. Finally, I consider my code comprehensive enough in this case performing both vertical and horizontal explorations to handle an unexpected case. I see this approach similar to a **try-catch**."
   ]
  },
  {
   "cell_type": "markdown",
   "metadata": {},
   "source": [
    "### Other side cases \n",
    "\n",
    "The above  case is the only one that I found where my algorithm didn't work as expected. There might exist other cases. To find them, this would require testing more."
   ]
  },
  {
   "cell_type": "markdown",
   "metadata": {},
   "source": [
    "## Other algorithmic approaches\n",
    "\n",
    "Before finding this solution to the problem, I got two ideas that I didn't figure out to make work."
   ]
  },
  {
   "cell_type": "markdown",
   "metadata": {},
   "source": [
    "### Approach 1: \"From top to bottom\"\n",
    "\n",
    "The idea I had was to:\n",
    "\n",
    "1. Tranform the input string as a list of list\n",
    "2. Go through the rows from the top to the bottom of the apartment \n",
    "3. Get relevant information on the way by:\n",
    "    - Saving the room names and their positions\n",
    "    - Saving the chairs and their positions  \n",
    "4. Try to find if there was a way from a room to a chair.\n",
    "\n",
    "**Problem**: Finding a way in this context sounded to abstract to me. Yet, I finally found a solution by searching a way from a chair to a room.\n",
    "\n",
    "### Approach 2: \"Finding the rooms\"\n",
    "\n",
    "1. Tranform the input string as a list of lists\n",
    "2. Save the positions of all the `+` character\n",
    "3. Find all the cycles in the graph formed by the `+` characters, not containing an element of `sep_chars` internally: this gives the rooms\n",
    "4. For each room, find the chairs within the room limits\n",
    "\n",
    "**Problems:**\n",
    "\n",
    "    - After some researches, I found that the step 3 is actually a NP-problem, i.e. of exponential complexity\n",
    "    - Even if I had gotten the `+` characters that delimited a give room, checking if a chair was within the area delimited by these characters was really not obvious to me.\n"
   ]
  },
  {
   "cell_type": "markdown",
   "metadata": {},
   "source": [
    "## Ideas for improvement\n",
    "\n",
    "I am going to list a few possible improvements that I would have given to my code if had had more time for me."
   ]
  },
  {
   "cell_type": "markdown",
   "metadata": {},
   "source": [
    "### Performance improvement\n",
    "\n",
    "With the given input `rooms.txt` file, my algorithm seems instantaneous. But, what if my algorithm was looped over thousands of `txt` files. If it is assured to trigger a good result, it may be long. I know there is room for improvement and I can give some idea here:\n",
    "\n",
    "1. Use `numpy` library to navigate through the 2D-arrays more efficiently. For instance there is no need to build the object `row` or `col` as I do.\n",
    "\n",
    "2. In the function `explore_vertical_moves()` and `explore_horizontal_moves()`, I always go up then down or left then right. Maybe, I could set an initial direction to find a room name more quickly.\n",
    "\n",
    "3. I explore the **checkpoints** in function of the stack that has been built all along. What if I tried with a queue of checkpoints instead? It would explore the checkpoints closer to the initial position of the chair first. I tested it on a few examples before and the stack was more performant than the queue overall. Indeed, moving horizontally and scanning all the columns or moving vertically and scanning all the rows, makes the exploration in a close area around the initial point pretty thorough. Thus, it makes sense, to explore as far as possible first. However, there are a few cases where stacking the checkpoints will make a chair move far away whereas its room name is really close.\n",
    "\n",
    "I am thinking of an idea like:\n",
    "If we move to n different checkpoints and the room is still not found. We consider than n is too big. At the iteration n+1, instead of popping the last element of the list of checkpoints to explore, let's pop the first one..."
   ]
  },
  {
   "cell_type": "markdown",
   "metadata": {},
   "source": [
    "### Security improvement\n",
    "\n",
    "I tried to make use of the library `pytest` as a first attempt to automate testing, but there is definitely room for improvement in the sector.\n",
    "\n",
    "As soon as I have an algorithm that works, I will try to test it in different ways:\n",
    "\n",
    "1. I will ask the client if he can provide me more inputs as `txt` files\n",
    "2. If he cannot, I will maybe consider generating them automatically\n",
    "\n",
    "Whenever I have enough inputs, checking \"by hand the truthness of the outputs generated by my algorithm is not feasible. I will then try different tests:\n",
    "- the check of the total count of chair types\n",
    "- the check of rooms found in the apartment\n",
    "- I will assert that the algorithm doesn't take to long to run\n",
    "- I will think of another algorithm and if I find another one, I will compare the outputs of the two functioning algorithm.\n",
    "\n",
    "The idea is to catch by testing every kind of exceptions that my algorithm wouldn't have handled\n",
    "\n",
    "In addition to that, I will try to raise more errors within my code."
   ]
  },
  {
   "cell_type": "markdown",
   "metadata": {},
   "source": [
    "This wraps up the analysis of this algorithm. I hope you appreciated my work."
   ]
  }
 ]
}