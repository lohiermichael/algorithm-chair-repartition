{
 "metadata": {
  "language_info": {
   "codemirror_mode": {
    "name": "ipython",
    "version": 3
   },
   "file_extension": ".py",
   "mimetype": "text/x-python",
   "name": "python",
   "nbconvert_exporter": "python",
   "pygments_lexer": "ipython3",
   "version": 3
  },
  "orig_nbformat": 2,
  "kernelspec": {
   "name": "python_defaultSpec_1595217413195",
   "display_name": "Python 3.8.3 64-bit"
  }
 },
 "nbformat": 4,
 "nbformat_minor": 2,
 "cells": [
  {
   "cell_type": "markdown",
   "metadata": {},
   "source": [
    "# Complexity evaluation of the algorithm\n",
    "\n",
    "In this notebook, we are going to give an evaluation of the complexity of the algorithm **Moving the chairs to the room names** whose code is written in the `script.py` Python file. Don't hesitate to open this file up to see where each function is called and check what I am going say."
   ]
  },
  {
   "cell_type": "code",
   "execution_count": 4,
   "metadata": {},
   "outputs": [],
   "source": [
    "from utils_notebook import get_project_root, notebook_print_of\n",
    "\n",
    "ROOT = get_project_root()\n",
    "EXAMPLES_FOLDER = str(ROOT) + '/explanatory_rooms'"
   ]
  },
  {
   "cell_type": "markdown",
   "metadata": {},
   "source": [
    "In the colored diagram below, you can see how the different functions are called in the algorithm. \n",
    "We add to the functions operations that were performed inside of a function, whose complexity is significant enough to be mentioned *ex: Create apartment_init*.\n",
    "In the diagram below:\n",
    "- each block is a function or an operation\n",
    "- if there is an arrow from a block A to a block B it means that:\n",
    "    - B is a function\n",
    "    - B is called during the function or operation A\n",
    "    - if this arrow is tagged with **For** or **While**, it means that A calls B within a loop\n",
    "    - if this arrow has no tag, it means that B is called a finite number of times in A (most of the time: once)\n",
    "\n",
    "- the color palette of the blocks gives information of the number nested loop a block has. The darker the block is colored the more nested loops it has.\n",
    "- the coloration ofthe blocks pointed by arrows of the same color, belong to the same loop\n",
    "\n",
    "\n",
    " ![Function Calls Diagram](../images_complexity_evaluation/1.functions_calls_diagram.jpg)"
   ]
  },
  {
   "cell_type": "markdown",
   "metadata": {},
   "source": [
    "## Time complexity evaluation\n",
    "\n",
    "We are going to calculate the average time complexity using the **Big O notation**\n",
    "\n",
    "To evaluate the time complexity of the hole algorithm, we are going to:\n",
    "\n",
    "1. Evaluate the time complexity of the \"clearer blocks\" of the diagram\n",
    "2. Evaluate the time complesity of the arrow, i.e. loops of the diagram\n",
    "3. For the other blocks the time complexity will be given by: <br>\n",
    "**sum(directly_called_block_complexity x arrow_complexity)** <br>\n",
    "\n",
    "WIth this strategy, we will eventually be able to evaluate the complexity of `run_solution()`"
   ]
  },
  {
   "cell_type": "markdown",
   "metadata": {},
   "source": [
    "Let's define some variables:\n",
    "- **N**: maximum between the length and the width of the apartment\n",
    "- **n_rooms**: the number of the rooms in the apartment\n",
    "- **n_chairs**: the number of chairs in the apartment\n",
    "- **count ('+')**: th number of '+' in the room\n",
    "\n",
    "We obviously have:\n",
    "- **n_rooms** < **N**\n",
    "- **chairs** < **N2**"
   ]
  },
  {
   "cell_type": "markdown",
   "metadata": {},
   "source": [
    "### The lightest blocks\n",
    "\n",
    "Let's begin with the lightest blocks called in the function `run_solution()`\n"
   ]
  },
  {
   "cell_type": "markdown",
   "metadata": {},
   "source": [
    "#### Create apartment_init\n",
    "[Reference](https://stackoverflow.com/questions/57467837/what-is-time-complexity-of-python3s-open-function).\n",
    "\n",
    "\n",
    "- We call the built-in function `open()` to read from the information from the txt file, this has a complexity of **O(1)** according to this.\n",
    "\n",
    "- We build the object `apartment_string`: the method `.read()` reads line by line. the number of the being inferior than N, the complexity is **O(N)**\n",
    "\n",
    "- We build `apartment_init` from `apartment_string`: We have two inline nested **for** loops of maximum N iterations each, the complexity is **O(N2)**\n",
    "\n",
    "The overall complexity of this block is **O(N2)**"
   ]
  },
  {
   "cell_type": "markdown",
   "metadata": {},
   "source": [
    "#### Create dict_pos_chairs\n",
    "\n",
    "- We have 2 nested **for** loops of maximum N iterations each.\n",
    "\n",
    "The complexity of this block is **O(N2)**"
   ]
  },
  {
   "cell_type": "markdown",
   "metadata": {},
   "source": [
    "#### Create list_pos_chairs\n",
    "\n",
    "- We build the list with the keys of `dict_pos_chairs`. There are n_chairs keys, the complexity is **O(n_chairs)**\n",
    "\n",
    "- We sort this list two times, each of there two operations and then the overall operation has a complexity of **O(n_chairs*log(n_chairs))** \n",
    "\n",
    "The complexity of this block is **O(n_chairs*log(n_chairs))**"
   ]
  },
  {
   "cell_type": "markdown",
   "metadata": {},
   "source": [
    "#### `remove_chairs()`\n",
    "\n",
    "[Reference](https://stackoverflow.com/questions/8957400/what-is-the-runtime-complexity-of-pythons-deepcopy)\n",
    "\n",
    "- We make a deepcopy of `apartment_init`. This object is has a dimension of N2 in the worst case. the `collections.deepcopy()` function has a linear complexity. The complexity is **O(N2)** \n",
    "\n",
    "- We loop over `list_pos_chairs` which is of size n_chairs. The complexity of this step is **O(n_chairs)**\n",
    "\n",
    "As n_chairs < N2, the overall complexity of this block is **O(N2)**\n",
    "\n"
   ]
  },
  {
   "cell_type": "markdown",
   "metadata": {},
   "source": [
    "#### `group_dict_room_chairs()`\n",
    "\n",
    "- In this function, we build the dictionary `grouped_dict_rooms_chairs` with two **nested for loops**:\n",
    "\n",
    "    1. Iterating over the room names, giving a complexity of **O(n_rooms)**\n",
    "    2. Iterating over the chairs the finite number of chair names, giving a complexity of **O(1)**\n",
    "\n",
    "However, inside the first loop, we use `collections.Counter()` with a list of a size which can be in the worst case n_chairs (all the rooms in one room). The complexity of this step is then **O(n_chairs)**\n",
    "\n",
    "The overall complexity of this block is **O(n_rooms*n_chairs)**\n"
   ]
  },
  {
   "cell_type": "markdown",
   "metadata": {},
   "source": [
    "#### `make_total_dict_result()`\n",
    "\n",
    "- In this function we loop over all the room_names (complexity of **O(n_rooms)** and inside loop over the chair types (complexity of **O(1)**))\n",
    "\n",
    "The overall complexity of this block is **O(n_rooms)**"
   ]
  },
  {
   "cell_type": "markdown",
   "metadata": {},
   "source": [
    "#### `check_total_chairs()`\n",
    "\n",
    "[Reference](https://stackoverflow.com/questions/42461840/what-is-the-time-complexity-of-collections-counter-in-python#:~:text=2%20Answers&text=As%20the%20source%20code%20shows,elements%20remain%20O(1).)\n",
    "\n",
    "- We build the object `counter_string`. We use the function `Counter` with `apartment_string`.\n",
    "    - `apartment_string` has a size of N2\n",
    "    - Counter has linear complexity.\n",
    "\n",
    "The complexity of this step is **O(N2)**\n",
    "\n",
    "- We build the object `total_chair_from_input` in line with a looping over the elements of `counter_string`. This object has a finite number of different possible keys: \n",
    "    - charaters of separation of rooms\n",
    "    - small letters\n",
    "    - paranthesis\n",
    "    - capital letters for the rooms\n",
    "    - spaces\n",
    "\n",
    "The number of keys will always be inferior to the sum of these different elements.\n",
    "The complexity of this step is **O(1)**\n",
    "\n",
    "- We finally loop over the chair types. The complexity of this step is **O(1)**\n",
    "\n",
    "\n",
    "The overall complexity of this block is **O(N2)**"
   ]
  },
  {
   "cell_type": "markdown",
   "metadata": {},
   "source": [
    "#### `print_element_console()`\n",
    "\n",
    "We loop over the chair types.\n",
    "\n",
    "The complexity of this block is **O(1)**"
   ]
  },
  {
   "cell_type": "markdown",
   "metadata": {},
   "source": [
    "#### `change_pos()`\n",
    "\n",
    "We switch the positions of 2 elements.\n",
    "The complexity of this block is **O(1)**"
   ]
  },
  {
   "cell_type": "markdown",
   "metadata": {},
   "source": [
    "#### `is_room_on_same_...()`\n",
    "\n",
    "In both `is_room_on_same_row()` and `is_room_on_same_column()` we use `filter()` on an object of size N, whether it is a row or a column which gives a complexity of **O(N)**.\n",
    "\n",
    "In the case of `is_room_on_same_column()` building `col` also gives a complexity of **O(N)**\n",
    "\n",
    "The complexity of this block is **O(N)**"
   ]
  },
  {
   "cell_type": "markdown",
   "metadata": {},
   "source": [
    "#### `find_room_on_same_...()`\n",
    "\n",
    "**find_room_on_same_row()**\n",
    "\n",
    "- The first **while** loop present in the function can have up to `N-len(room_name)` iterations in the worst case.\n",
    "\n",
    "- The next two **while** loops have len(room_name) iterations.\n",
    "\n",
    "The complexity of this block **O(N)**\n",
    "\n",
    "**find_room_on_same_columns()**\n",
    "\n",
    "- We build `col` with a complexity of **O(N)**\n",
    "- The first **while** loop present in the function can have up to `N-1` iterations in the worst case, if the chair is for instance at the top of the apartment and the room name at the bottom.\n",
    "\n",
    "- The next **while** loop has len(room_name) iterations.\n",
    "\n",
    "In both cases the complexity of this block is **O(N)**\n"
   ]
  },
  {
   "cell_type": "markdown",
   "metadata": {},
   "source": [
    "#### `update_checkpoints()`\n",
    "\n",
    "- We loop over `open_corners` which contains at most 2 elements to build `new_checkpoints`. The complexity is **O(1)**\n",
    "\n",
    "- We loop over `new_checkpoints` which will contain at most 2 elements. The complexity is **O(1)**\n",
    "\n",
    "The overall complexity of this block is **O(1)**"
   ]
  },
  {
   "cell_type": "markdown",
   "metadata": {},
   "source": [
    "#### `find open corner_...()`\n",
    "\n",
    "- The **while** loop can have up  to to `N` iterations in the worst case, in case, no open corner is found and the length (or width) of the room at this level is that of the apartment.\n",
    "\n",
    "The complexity of the block is **O(N)**\n",
    "\n"
   ]
  },
  {
   "cell_type": "markdown",
   "metadata": {},
   "source": [
    "This is what we get\n",
    "\n",
    " ![Time Complexity for the lightest blocks](../images_complexity_evaluation/2.time_complexity_diagram_lightest_blocks.jpg)"
   ]
  },
  {
   "cell_type": "markdown",
   "metadata": {},
   "source": [
    "### The Loops\n",
    "\n",
    "Now that we have determined the complexity of the blocks that didn't call other blocks, let's evaluate the complexity of the **for** loop that link them to the other functions."
   ]
  },
  {
   "cell_type": "markdown",
   "metadata": {},
   "source": [
    "#### The blue loop (run in `run_function()`)\n",
    "\n",
    "This is a **for** loop that goes through the element of `list_po_chairs` which contains n_chairs element. \n",
    "\n",
    "The complexity of this loop is **O(n_chairs)**"
   ]
  },
  {
   "cell_type": "markdown",
   "metadata": {},
   "source": [
    "#### The violet loop (run in `print_output_console()`)\n",
    "\n",
    "This is a **for** loop that goes through the elements of list of size n_rooms.\n",
    "\n",
    "The complexity of this loop is **O(n_rooms)**"
   ]
  },
  {
   "cell_type": "markdown",
   "metadata": {},
   "source": [
    "#### The brown loop (run in `search_room()`)\n",
    "\n",
    "This is a **while** loops that determinates when the room is found. This is the most complex loop to evaluate.\n",
    "\n",
    "At each iteration of the loop, the list `found_checkpoints` is updated with the function `update_checkpoints()`. This list is interesting because it contains the possible checkpoints a chair may move to with no duplicates of checkpoints.\n",
    "\n",
    "As the while loop sets a new value of checkpoint at each iteration, the size of `found_checkpoints` is an upper bound of the number of iterations of the loop at the end of it.\n",
    "\n",
    "```\n",
    "n_iterations < len(found_checkpoints) < n_all_possible_checkpoints\n",
    "```\n",
    "\n",
    "On the other way, we also have:\n",
    "```\n",
    "n_all_possible_checkpoints < 4 *  n_open_corners\n",
    "```\n",
    "because around an open corner there are at most 4 possible checkpoints (see the example below)."
   ]
  },
  {
   "cell_type": "code",
   "execution_count": 5,
   "metadata": {},
   "outputs": [
    {
     "output_type": "execute_result",
     "data": {
      "text/plain": "['+-----------+------------------------------------+',\n '|           |                                    |',\n '| (closet)  |                                    |',\n '|           |                                    |',\n '+-----------+                                    |',\n '            |                                    |',\n '            |                                   o+--------+',\n '            |                                    o        |',\n '    +-------+o                                            |',\n '    |       o                                             |',\n '    |       o                                    o        |',\n '    +-------+o                                  o+--------+',\n '            |                                    |',\n '            |                                    |',\n '       +----+o                                   |',\n '       |    o                                    |',\n '       +----+ o                                  |',\n '            |               (sleeping room)      |',\n '            +------------------------------------+']"
     },
     "metadata": {},
     "execution_count": 5
    }
   ],
   "source": [
    "notebook_print_of(f'{EXAMPLES_FOLDER}/14.all_possible_open_corners.txt')"
   ]
  },
  {
   "cell_type": "markdown",
   "metadata": {},
   "source": [
    "The possible checkpoints are represented by the character `'o'`. I say for be cause each of the two we can set the `exp_type` to be either `v` or `h`.\n",
    "\n",
    "Finally, we have: \n",
    "\n",
    "```n_open_corners < count('+')```\n",
    "\n",
    "If we wrap everything together we have:\n",
    "```\n",
    "n_iterations < 4 * count('+')```\n",
    "```\n",
    "\n",
    "The complexity of the loop is **O(count('+'))**"
   ]
  },
  {
   "cell_type": "markdown",
   "metadata": {},
   "source": [
    "#### The gree loop (run in `explore()`)\n",
    "\n",
    "In this **while** loop that traverses the room with the chair. The room lenght or width can possibly be of size N.\n",
    "\n",
    "The complexity of this loop is **O(N)**"
   ]
  },
  {
   "cell_type": "markdown",
   "metadata": {},
   "source": [
    "Now that we have the complexity of:\n",
    "\n",
    "1. the lightest blocks\n",
    "2. the loops\n",
    "\n",
    "we can find the complexity of all the blocks as follows"
   ]
  },
  {
   "cell_type": "markdown",
   "metadata": {},
   "source": [
    " ![Time Complexity diagram completed](../images_complexity_evaluation/3.time_complexity_diagram_completed.jpg)"
   ]
  },
  {
   "cell_type": "markdown",
   "metadata": {},
   "source": [
    "The overall time complexity is **O(N2 x n_chairs x count('+'))**"
   ]
  },
  {
   "cell_type": "markdown",
   "metadata": {},
   "source": [
    "## Space complexity"
   ]
  },
  {
   "cell_type": "code",
   "execution_count": null,
   "metadata": {},
   "outputs": [],
   "source": []
  }
 ]
}