{
 "metadata": {
  "language_info": {
   "codemirror_mode": {
    "name": "ipython",
    "version": 3
   },
   "file_extension": ".py",
   "mimetype": "text/x-python",
   "name": "python",
   "nbconvert_exporter": "python",
   "pygments_lexer": "ipython3",
   "version": 3
  },
  "orig_nbformat": 2,
  "kernelspec": {
   "name": "python_defaultSpec_1595174239592",
   "display_name": "Python 3.8.3 64-bit"
  }
 },
 "nbformat": 4,
 "nbformat_minor": 2,
 "cells": [
  {
   "cell_type": "markdown",
   "metadata": {},
   "source": [
    "# Explanation of my solution\n",
    "\n",
    "In this notebook, I am going through the solution code in its order of execution as well as through the thinking process I had to find this solution to the problem.\n",
    "\n",
    "I will name this solution: **Moving the chairs to the room names**.\n",
    "\n",
    "You can follow this code along in the `script.py` file at the root of the directory.\n",
    "\n"
   ]
  },
  {
   "cell_type": "code",
   "execution_count": 1,
   "metadata": {
    "tags": []
   },
   "outputs": [],
   "source": [
    "from utils_notebook import get_project_root, notebook_print_of\n",
    "\n",
    "ROOT = get_project_root()\n",
    "EXAMPLES_FOLDER = str(ROOT) + '/explanatory_rooms'"
   ]
  },
  {
   "cell_type": "markdown",
   "metadata": {},
   "source": [
    "## Overall organization of the code"
   ]
  },
  {
   "cell_type": "markdown",
   "metadata": {},
   "source": [
    "In the `script.py` file we have as:\n",
    "- **Input**: a path to the `txt` file reprensenting an apartment. *ex: rooms.txt*\n",
    "- **Output**: a print in the console of the excepted result, namely the:\n",
    "```\n",
    "- Number of different chair types for the apartment\n",
    "- Number of different chair types per room\n",
    "```\n",
    "as mentioned in the **task_en.txt** file.\n",
    "\n",
    "To perform this task, it runs the `run_solution()` function"
   ]
  },
  {
   "cell_type": "markdown",
   "metadata": {},
   "source": [
    "The `run_solution()` is divided in 4 steps:\n",
    "\n",
    "- **Step 1:** Read the `txt` file\n",
    "- **Step 2:** Locate the chairs in the apartment\n",
    "- **Step 3:** Find the room of each chair\n",
    "- **Step 4:** Transform the result and display it"
   ]
  },
  {
   "cell_type": "markdown",
   "metadata": {},
   "source": [
    "## Preliminary steps"
   ]
  },
  {
   "cell_type": "markdown",
   "metadata": {},
   "source": [
    "### Step 1: Read and transform the txt file\n",
    "\n",
    "I simply read the `room.txt` file or any other `txt` file of the same type and tranform it into a list of lists that I name `apartment_init`. \n",
    "\n",
    "I chose this *list of lists* data structure, i.e. to easily track any point in the apartment with coordinates: i, j as follows: `apartment_init[i][j]` which will be used in the rest of the code.\n",
    "\n",
    "For debugging purposes, note that an apartment as a list of lists can be displayed in the console or the debugger with the function `console_print_of()` present in the `utils.py` file."
   ]
  },
  {
   "cell_type": "markdown",
   "metadata": {},
   "source": [
    "### Step 2: Locate chairs in the apartment\n",
    "\n",
    "1. I scan throught every single pair of coordinates `(i, j)` to build the dictionary: `dict_pos_chairs` with:\n",
    "    - **key**: (i, j) the coordinates of the chairs\n",
    "    - **values**: the coresponding letter of chair in the apartment\n",
    "\n",
    "2. In addition to this dictionary, I also create a list `list_pos_chairs` which gives the positions of chairs ordered vertically and horizontally. Sorting the list this way allows to easily find which chair is treated when we loop over each of them.\n",
    "\n"
   ]
  },
  {
   "cell_type": "markdown",
   "metadata": {},
   "source": [
    "## Step 3: Find the room of each chair \n",
    "### (Main step)\n",
    "\n",
    "This step is divided into 3 sub-steps:\n",
    "- **Step 3.1:** Temporarily remove the other chairs in the apartment\n",
    "- **Step 3.2:** Search the room of a chair\n",
    "- **Step 3.3:** Save the result\n",
    "\n",
    "This hole step is performed looping over the position of the chairs: `list_pos_chairs`. Within the loop the variables are:\n",
    "- `k`: the index in `list_pos_chairs` of the chair. Having the `txt` file open, as `list_pos_chairs` is sorted it is fairly easy to locate the chair with `k`.\n",
    "- `coord = (i, j)` : the coordinates of the chair in the `apartment`\n",
    "-  `chair = apartment_init[i][j]`: the letter of the chair\n"
   ]
  },
  {
   "cell_type": "markdown",
   "metadata": {},
   "source": [
    "### Step 3.1: Temporarily remove the other chairs in the apartment\n",
    "\n",
    "We are now inside the **for** loop and therefore the variables above-mentioned will be used in the explanation.\n",
    "\n",
    "As explained in the introduction, my method consists in moving the letter of each chair. To avoid any kind of conflicts between two chairs letters, I decided to create a copy (or rather a [deepcopy](https://docs.python.org/3/library/copy.html)) of `apartment_init` called `apartment` in which the other chair letters than `chair` will be removed.\n",
    "\n",
    "This is how `apartment` looks like when treating the chair `'S'` located in `i, j = (4, 10)`"
   ]
  },
  {
   "cell_type": "code",
   "execution_count": 18,
   "metadata": {},
   "outputs": [
    {
     "output_type": "execute_result",
     "data": {
      "text/plain": "['+-----------+------------------------------------+',\n '|           |                                    |',\n '| (closet)  |                                    |',\n '|           |                            S       |',\n '|           |         (sleeping room)            |',\n '|           |                                    |',\n '|           |                                    |',\n '+-----------+                                    |',\n '|           |                                    |',\n '|           |                                    |',\n '|           |                                    |',\n '|           +--------------+---------------------+',\n '|                          |                     |',\n '|                          |                     |',\n '|                          |    (office)         |',\n '|                          |                     |',\n '+--------------+           |                     |',\n '|              |           |                     |',\n '| (toilet)     |           |                     |',\n '|              |           |                     |',\n '|              |           |                     |',\n '+--------------+           +---------------------+',\n '|              |           |                     |',\n '|              |           |                     |',\n '|              |           |                     |',\n '| (bathroom)   |           |      (kitchen)      |',\n '|              |           |                     |',\n '|              |           |                     |',\n '|              |           |                     |',\n '|              +           |                     |',\n '|             /            +---------------------+',\n '|            /                                   |',\n '|           /                                    |',\n '|          /                                     |',\n '+---------+                                      |',\n '|                                                |',\n '|                                                |',\n '|                (living room)                   |',\n '|                                                |',\n '|                                                |',\n '|                                                |',\n '|                                                |',\n '|                                                |',\n '+--------------------------+---------------------+',\n '                           |                     |',\n '                           |                     |',\n '                           |  (balcony)          |',\n '                           |                     |',\n '                           |                     |',\n '                           +---------------------+']"
     },
     "metadata": {},
     "execution_count": 18
    }
   ],
   "source": [
    "notebook_print_of(f'{EXAMPLES_FOLDER}/1.rooms_one_chair.txt')"
   ]
  },
  {
   "cell_type": "markdown",
   "metadata": {},
   "source": [
    "### Step 3.2: Search the room of a chair\n",
    "\n",
    "#### (The core of the algorithm)\n",
    "\n",
    "For this step, we call the function `search_room()` that has as inputs:\n",
    "- `apartment`: the apartment with only on chair present\n",
    "- `coord`: the coordinates of the chair\n",
    "an return:\n",
    "- `room_of_chair`: the room name, the chair belongs to\n",
    "\n",
    "In the above example:\n",
    "```\n",
    "search_room(apartment, (4, 10)) = 'sleeping room'\n",
    "```\n",
    "\n",
    "The best way to explain the logic behind this piece of code is I think to go through the different ideas that I had."
   ]
  },
  {
   "cell_type": "markdown",
   "metadata": {},
   "source": [
    "#### IDEA 1: room name on the same row\n",
    "\n",
    "The idea consists of:\n",
    "\n",
    "1. Checking if a chair located in `(i, j)` is in the same row as its room name.\n",
    "2. Saving this room name\n",
    "\n",
    "Building the object `apartment` as a list of lists, it fairly easy to extract a given row `i`. We just need to define: `row = apartment[i]`"
   ]
  },
  {
   "cell_type": "markdown",
   "metadata": {},
   "source": [
    "If we consider this situation:"
   ]
  },
  {
   "cell_type": "code",
   "execution_count": 19,
   "metadata": {},
   "outputs": [
    {
     "output_type": "execute_result",
     "data": {
      "text/plain": "['+-----------+------------------------------------+',\n '|           |                                    |',\n '|           |                                    |',\n '|  (closet) |                                    |',\n '|           |                                    |',\n '|           |                                    |',\n '|           |                                    |',\n '+-----------+                                    |',\n '            |         (sleeping room)     S      |',\n '            |                                    |',\n '            |                                    |',\n '            +------------------------------------+']"
     },
     "metadata": {},
     "execution_count": 19
    }
   ],
   "source": [
    "notebook_print_of(f'{EXAMPLES_FOLDER}/2.chair_room_same_row.txt')"
   ]
  },
  {
   "cell_type": "markdown",
   "metadata": {},
   "source": [
    "In this situation, asserting if the chair has its room name on the same row can be done by checking if a paranthesis belongs to this row."
   ]
  },
  {
   "cell_type": "markdown",
   "metadata": {},
   "source": [
    "However, if we are in this situation:"
   ]
  },
  {
   "cell_type": "code",
   "execution_count": 20,
   "metadata": {},
   "outputs": [
    {
     "output_type": "execute_result",
     "data": {
      "text/plain": "['+-----------+------------------------------------+',\n '|           |                                    |',\n '|           |                                    |',\n '|           |                                    |',\n '| (closet)  |              S                     |',\n '|           |                                    |',\n '|           |                                    |',\n '+-----------+                                    |',\n '            |              (sleeping room)       |',\n '            |                                    |',\n '            |                                    |',\n '            +------------------------------------+']"
     },
     "metadata": {},
     "execution_count": 20
    }
   ],
   "source": [
    "notebook_print_of(f'{EXAMPLES_FOLDER}/3.not_good_room_same_row.txt')"
   ]
  },
  {
   "cell_type": "markdown",
   "metadata": {},
   "source": [
    "Visually, it is obvious to say that the chair `S` is in the room `sleeping room`. But the row where `S` is contains another room name: `closet`.\n",
    "\n",
    "The strategy of finding a paranthesis on the same row, will give a false result in this case."
   ]
  },
  {
   "cell_type": "markdown",
   "metadata": {},
   "source": [
    "The right approach is:\n",
    "- to check if a room name is on the same row as a chair\n",
    "- if so, check if exclusively `' '` characters are between the chair letter and the room name on the same row.\n",
    "\n",
    "This is performed by the function `is_room_on_same_row()`, with an equivalent method:\n",
    "- we remove `' '` from the row\n",
    "- we check if directly preceded by a `)` or followed by a `(` as room names are wrapped in them."
   ]
  },
  {
   "cell_type": "markdown",
   "metadata": {},
   "source": [
    "As the second step of this first idea, if `is_room_on_same_row(apartment, i, j)` has a `True` value, we want to save the found room name. \n",
    "\n",
    "This task is performed by the function `found_room_on_same_row()` in this way, we go through the `row = apartment[i]`:\n",
    "\n",
    "1. We start from the chair in `row[j]`\n",
    "2. We create two indices `j_left` and `j_right`\n",
    "3. We move `j_left` on the left and `j_right` on the right, while no paranthesis is found. It obviously terminates as `is_room_on_same_row(apartment, i, j)` is `True`. \n",
    "\n",
    "***Note:*** *Notice that the value of `j_left` and `j_right` are only updated when not encountering an element of `sep_chars`. This ensures to only stay within the room*. `sep_chars` are the characters of separation of a room that you can find in the `special_characters.py` file.\n",
    "\n",
    "4. Once a paranthesis is encountered, we set the string `side` which is in `{'left', 'right'}` depending on where the paranthesis was found.\n",
    "5. We finally build the room name character after character on either side depending on the value of `side`."
   ]
  },
  {
   "cell_type": "markdown",
   "metadata": {},
   "source": [
    "#### IDEA 2: Moving vertically and explore horizontally\n",
    "\n",
    "So far, I have been able to find a room name of a chair if they were both on the same line. But what if that was not the case as in the example below?"
   ]
  },
  {
   "cell_type": "code",
   "execution_count": 21,
   "metadata": {},
   "outputs": [
    {
     "output_type": "execute_result",
     "data": {
      "text/plain": "['+-----------+------------------------------------+',\n '|           |                                    |',\n '|           |                                    |',\n '|           |                                    |',\n '| (closet)  |                                    |',\n '|           |                                    |',\n '|           |      S                             |',\n '+-----------+                                    |',\n '            |              (sleeping room)       |',\n '            |                                    |',\n '            |                                    |',\n '            +------------------------------------+']"
     },
     "metadata": {},
     "execution_count": 21
    }
   ],
   "source": [
    "notebook_print_of(f'{EXAMPLES_FOLDER}/4.room_not_on_same_row.txt')"
   ]
  },
  {
   "cell_type": "markdown",
   "metadata": {},
   "source": [
    "The idea I got, was to vertically displace the chair so that it lands on a row where its room name is.\n",
    "\n",
    "This deplacement is performed by the function `change_pos()` which has as inputs:\n",
    "- `apartment`\n",
    "- `i`, `j`: the old coordinates\n",
    "- `new_i`, `new_j`: the coordinates of the spot we want to move the chair to\n",
    "\n",
    "The function:\n",
    "1. switches the characters at `(i, j)` and `(new_i, new_j)`\n",
    "2. returns the updated coordinates."
   ]
  },
  {
   "cell_type": "markdown",
   "metadata": {},
   "source": [
    "Now that we know how to move a chair around, let's see how we can move vertically to find the room name.\n",
    "\n",
    "I decided to:\n",
    "\n",
    "1. Move the chair to the empty space just above it until we reach the top of the room, i.e., the above character is in `sep_chars`.\n",
    "\n",
    "2. If the top of the room is reached, get back to the initial position.\n",
    "\n",
    "3. Move the chair to the empty space just below it until we reach the bottom of the room, i.e., the below character is in `sep_chars`.\n",
    "\n",
    "At each step of this procedure, we check if the room name is on the same row, we break it.\n",
    "\n",
    "\n",
    "This task is perfomed the `explore_vertical_moves()` function. This function does other things on the side that we will explain later but the core of the function is explained above.\n",
    "\n",
    "Here are a few examples. The numbers give the positions in order of the different positions that the chair `S` takes. \n"
   ]
  },
  {
   "cell_type": "code",
   "execution_count": 22,
   "metadata": {},
   "outputs": [
    {
     "output_type": "execute_result",
     "data": {
      "text/plain": "['+-----------+------------------------------------+',\n '|           |                                    |',\n '| (closet)  |    (sleeping room)             3   |',\n '|           |                                2   |',\n '+-----------+                                1   |',\n '            |                                S   |',\n '            |                                    |',\n '            +------------------------------------+']"
     },
     "metadata": {},
     "execution_count": 22
    }
   ],
   "source": [
    "notebook_print_of(f'{EXAMPLES_FOLDER}/5.horizontal_exploration_1.txt')"
   ]
  },
  {
   "cell_type": "code",
   "execution_count": 23,
   "metadata": {},
   "outputs": [
    {
     "output_type": "execute_result",
     "data": {
      "text/plain": "['+-----------+------------------------------------+',\n '|           |      2                             |',\n '| (closet)  |      1                             |',\n '|           |      S                             |',\n '+-----------+      3                             |',\n '            |      4       (sleeping room)       |',\n '            |                                    |',\n '            +------------------------------------+']"
     },
     "metadata": {},
     "execution_count": 23
    }
   ],
   "source": [
    "notebook_print_of(f'{EXAMPLES_FOLDER}/6.horizontal_exploration_2.txt')"
   ]
  },
  {
   "cell_type": "markdown",
   "metadata": {},
   "source": [
    "#### ALERT: Problem if the chair is above or under the room\n",
    "\n",
    "Moving vertically and exploring horizontally seems to work fine, if of course we can move vertically. What if one of the character of the room name or one of the paranthesis that wraps it is on the same **column** as `chair`. If we try to move the chair up and down, it will eventually \"bump into\" the room name which will create a mess.\n",
    "\n",
    "Here is an example of such a case:"
   ]
  },
  {
   "cell_type": "code",
   "execution_count": 24,
   "metadata": {},
   "outputs": [
    {
     "output_type": "execute_result",
     "data": {
      "text/plain": "['+-----------+------------------------------------+',\n '|           |                                    |',\n '| (closet)  |                 S                  |',\n '|           |                                    |',\n '+-----------+                                    |',\n '            |              (sleeping room)       |',\n '            |                                    |',\n '            +------------------------------------+']"
     },
     "metadata": {},
     "execution_count": 24
    }
   ],
   "source": [
    "notebook_print_of(f'{EXAMPLES_FOLDER}/7.chair_and_room_on_same column.txt')\n"
   ]
  },
  {
   "cell_type": "markdown",
   "metadata": {},
   "source": [
    "The solution I found to this problem is to introduce one **vertical check** before moving the chair up and down in the `explore_vertical_moves()` funciton. This is performed by the `is_room_on_same_column()`\n",
    "\n",
    "The approach is similar to that of `is_room_on_same_column()` but once the `' '` are removed, instead of looking for a paranthesis, we look for a character that is not in `sep_char`, i.e., a letter or a paranthesis.\n",
    "\n",
    "In the example above, the column of `S` when the `' '` are removed, is:\n",
    "`['-', 'S', 'e', '-']` as `'e'` follows `'S'` and is not in `sep_chars`, there is a room name on the same column.\n",
    "\n",
    "***Note:*** *There is a side case to this problem of this problem. I will tackle it in the next notebook*"
   ]
  },
  {
   "cell_type": "markdown",
   "metadata": {},
   "source": [
    "When the `is_room_on_same_column()` is `True`, there is no need to move the chair up and down. Instead we use the function `find_room_on_same_column()`.\n",
    "\n",
    "This function, as its equivalent `find_room_on_same_row()`:\n",
    "\n",
    "1. We start from the chair in `col[i]`\n",
    "2. We create two indices `i_up` and `j_down`\n",
    "3. We move `i_up` up and `i_dowm` down, until one of them reach a character of `no_room_char`, i.e. a paranthesis or a letter\n",
    "\n",
    "***Note:*** *Notice that the value of `i_up` and `i_down` are only updated when not encountering an element of `sep_chars`. This ensures to only stay within the room*.\n",
    "\n",
    "\n",
    "Once a character of a character in `no_room_char` is encountered:\n",
    "4. We name the index where we found it `i_room`. Thus, the character is in `apartment[i_room][j]`\n",
    "\n",
    "5. If it is a left paranthesis we change j = j+1\n",
    "6. If it is a right paranthesis we change j = j-1 \n",
    "\n",
    "So now `apartment[i_room][j]` is right in the middle of the room name.\n",
    "\n",
    "7. From this character, we will set two variables `j_left` and `right` that we will move respectively left and right untile reaching the parantheses, so that we can build the room name character by character.\n",
    "\n",
    "We finally return this room name."
   ]
  },
  {
   "cell_type": "markdown",
   "metadata": {},
   "source": [
    "#### IDEA 3: Find an open corner and vertical exploration\n",
    "\n",
    "At this point, given the input `rooms.txt` file, I could find the room of all the chairs, except the `W` in the `living room` which is on the top far from its room name.\n",
    "\n",
    "For this room, running `explore_horizontal_moves()`, `W` will move this way, without find the room name as in none of the rows `W` will be at, the room name will be present."
   ]
  },
  {
   "cell_type": "code",
   "execution_count": 25,
   "metadata": {},
   "outputs": [
    {
     "output_type": "execute_result",
     "data": {
      "text/plain": "['+-----------+------------------------------------+',\n '|           |                                    |',\n '| (closet)  |                                    |',\n '|           |                                    |',\n '|           |         (sleeping room)            |',\n '|           |                                    |',\n '|           |                                    |',\n '+-----------+                                    |',\n '|        1  |                                    |',\n '|        W  |                                    |',\n '|        2  |                                    |',\n '|        3  +--------------+---------------------+',\n '|        4                 |                     |',\n '|        5                 |                     |',\n '|        6                 |    (office)         |',\n '|        7                 |                     |',\n '+--------------+           |                     |',\n '|              |           |                     |',\n '| (toilet)     |           |                     |',\n '|              |           |                     |',\n '|              |           |                     |',\n '+--------------+           +---------------------+',\n '|              |           |                     |',\n '|              |           |                     |',\n '|              |           |                     |',\n '| (bathroom)   |           |      (kitchen)      |',\n '|              |           |                     |',\n '|              |           |                     |',\n '|              |           |                     |',\n '|              +           |                     |',\n '|             /            +---------------------+',\n '|            /                                   |',\n '|           /                                    |',\n '|          /                                     |',\n '+---------+                                      |',\n '|                                                |',\n '|                                                |',\n '|                (living room)                   |',\n '|                                                |',\n '|                                                |',\n '|                                                |',\n '|                                                |',\n '|                                                |',\n '+--------------------------+---------------------+',\n '                           |                     |',\n '                           |                     |',\n '                           |  (balcony)          |',\n '                           |                     |',\n '                           |                     |',\n '                           +---------------------+']"
     },
     "metadata": {},
     "execution_count": 25
    }
   ],
   "source": [
    "notebook_print_of(f'{EXAMPLES_FOLDER}/8.far_room_chair_moves.txt')"
   ]
  },
  {
   "cell_type": "markdown",
   "metadata": {},
   "source": [
    "It seems that `W` is confined to this region of the apartment. \n",
    "\n",
    "The solution I found for this problem is looking for an **open corner**.\n",
    "\n",
    "What is an **open corner**?\n",
    "\n",
    "An **open corner** is `+` on the same row as a given chair that forms a perpendicular angle, that expands the area of the room that you can explore.\n",
    "\n",
    "Let's give an example:"
   ]
  },
  {
   "cell_type": "code",
   "execution_count": 26,
   "metadata": {},
   "outputs": [
    {
     "output_type": "execute_result",
     "data": {
      "text/plain": "['+------------------------+-----------------------+',\n '|                        |                       |',\n '|            P2          |                       |',\n '|      P1   +-------+....|                       |',\n '|           | ~~~~~ |....|                       |',\n '|           | ~~~~~ |....|                       |',\n '|           | ~~~~~ +----+   S1                  |',\n '+-----------+          S2                        |',\n '            |                                    |',\n '            |                                    |',\n '            |                                    |',\n '            +------------------------------------+']"
     },
     "metadata": {},
     "execution_count": 26
    }
   ],
   "source": [
    "notebook_print_of(f'{EXAMPLES_FOLDER}/9.open_corner_example.txt')"
   ]
  },
  {
   "cell_type": "markdown",
   "metadata": {},
   "source": [
    "If we consider the chair `P1`. Running `explore_horizontal_moves()`, we will be unable to explore the area of its room \"colored\" with `'.'`. However if we change the position of `P1` to that of `P2`, we will get closer to the unexplored area. In this case the `+` on the right of `P1` is an open corner for `P1`.\n",
    "\n",
    "Similarily for `S1` and the area \"colored\" with `'~'`. We will need to go to `S2` to get closer to the '~'-colored area. The  `+` on the left of `S1` is an open corner for `S1`.\n",
    "\n",
    "The solution to get out of an area where the exploration is unsucessful is to move to a location in the direction that the **open corner** gives\n",
    "\n",
    "Examples:\n",
    "- The open corner of `P1` is open **up-right**. Let's move to `P2` which is **up-right**\n",
    "- The open corner of `S1` is open **down-left**. Let's move to `S2` which is **down-left**"
   ]
  },
  {
   "cell_type": "markdown",
   "metadata": {},
   "source": [
    "Well, we get closer to the '.'-colored are in `P2`, good! Yet,  running `explore_horizontal_moves()` from `P2` will not explore it. \n",
    "\n",
    "That is where we introduce the `explore_vertical_moves()` function. This function is conceptually similar to `explore_horizontal_moves()` in every way. You just need to switch \"rows\" by \"columns\" and vice versa.\n",
    "\n",
    "In other words, from a `chair` in the apartment in `apartment[i][j]`:\n",
    "\n",
    "1. We check, one time, if the room name is not on the same row as the chair with the function `is_room_on_same_row()`.\n",
    "    - If so we find it witht the function `find_room_on_same_row()`\n",
    "    \n",
    "2. We move left and then right until reaching a character in `sep_chars`. At each iteration, we check `is_room_on_same_column()`\n",
    "    - if it is `True`, we break with `find_room_on_same_column()`"
   ]
  },
  {
   "cell_type": "markdown",
   "metadata": {},
   "source": [
    "To summarize, with the above example:\n",
    "\n",
    "1. From `P1`, finding the open corner on the right\n",
    "2. Moving `P1` to `P2`\n",
    "3. From `P2` running `explore_vertical_moves()` \n",
    "\n",
    "will allow to find explore the are colored with `'.'`"
   ]
  },
  {
   "cell_type": "markdown",
   "metadata": {},
   "source": [
    "#### IDEA 4: Open Corener generalisation\n",
    "\n",
    "We know that in the cases where we are confined to a certain area, the open corners will allow us to to move to other areas. We may wonder how and when in the code we look for these open corners. \n",
    "\n",
    "**When?**\n",
    "\n",
    "At each new itearation when the chair is moved in the while loops within the functions `explore_vertical_moves()` and `explore_horizontal_moves()`.\n",
    "\n",
    "**How?**\n",
    "\n",
    "With the functions `find_open_corner_horizontal_check()` and `find_open_corner_horizontal_check()`."
   ]
  },
  {
   "cell_type": "markdown",
   "metadata": {},
   "source": [
    "\n",
    "We will explain how the function `find_open_corner_horizontal_check()` called in the function `explore_vertical_moves()` works. The function `find_open_corner_vertical_check()` called in the function `explore_horizontal_moves()` works. follows the same exact process.\n",
    "\n",
    "During a **vertical exploration**, \n",
    "For any location of chair you can find 0, 1 or 2 open corners. \n",
    "You'll find below an example for each of these cases.\n",
    "\n",
    "The function `find_open_corner_horizontal_check()` has as inputs:\n",
    "- `apartment`\n",
    "- `(i, j)`: the coordinates of the chair\n",
    "- `direction`: the direction the chair is currently move. In explore_vertical_moves(), it can be `up` or `down` \n",
    "\n",
    "It will return, the list of the coordinates of the found open corners on the same row as the chair, on its direct left and/or right."
   ]
  },
  {
   "cell_type": "markdown",
   "metadata": {},
   "source": [
    "**No Open Corners**\n",
    "\n",
    "In the example below:\n",
    "- At `S`\n",
    "- During a **vertical exploration**\n",
    "- With `direction = up`\n",
    "\n",
    "There is no open corner\n",
    "\n"
   ]
  },
  {
   "cell_type": "code",
   "execution_count": 34,
   "metadata": {},
   "outputs": [
    {
     "output_type": "execute_result",
     "data": {
      "text/plain": "['+-----------+------------------------------------+',\n '|           |                                    |',\n '| (closet)  |                 S                  |',\n '|           |                                    |',\n '+-----------+                                    |',\n '            |                                    |',\n '            |                                    +--------+',\n '            |                                             |',\n '    +-------+                                             |',\n '    |                                                     |',\n '    |                                                     |',\n '    +-------+                                    +--------+',\n '            |                                    |',\n '            |                                    |',\n '       +----+                                    |',\n '       |                                         |',\n '       +----+                                    |',\n '            |               (sleeping room)      |',\n '            +------------------------------------+']"
     },
     "metadata": {},
     "execution_count": 34
    }
   ],
   "source": [
    "notebook_print_of(f'{EXAMPLES_FOLDER}/10.no_open_corner.txt')"
   ]
  },
  {
   "cell_type": "markdown",
   "metadata": {},
   "source": [
    "**One Open Corner**\n",
    "\n",
    "In the example below:\n",
    "- At `S`\n",
    "- During a **vertical exploration**\n",
    "- With `direction = down`\n",
    "\n",
    "There is one open corner on the left.\n",
    "\n",
    "However\n",
    "- At `S`\n",
    "- During a **vertical exploration**\n",
    "- With `direction = up`\n",
    "\n",
    "There is no open corner."
   ]
  },
  {
   "cell_type": "code",
   "execution_count": 35,
   "metadata": {},
   "outputs": [
    {
     "output_type": "execute_result",
     "data": {
      "text/plain": "['+-----------+------------------------------------+',\n '|           |                                    |',\n '| (closet)  |                                    |',\n '|           |                                    |',\n '+-----------+                                    |',\n '            |                                    |',\n '            |                                    +--------+',\n '            |                                             |',\n '    +-------+                                             |',\n '    |                                                     |',\n '    |                                                     |',\n '    +-------+                                    +--------+',\n '            |                                    |',\n '            |                                    |',\n '       +----+    S                               |',\n '       |                                         |',\n '       +----+                                    |',\n '            |               (sleeping room)      |',\n '            +------------------------------------+']"
     },
     "metadata": {},
     "execution_count": 35
    }
   ],
   "source": [
    "notebook_print_of(f'{EXAMPLES_FOLDER}/11.one_open_corner.txt')"
   ]
  },
  {
   "cell_type": "markdown",
   "metadata": {},
   "source": [
    "During a **vertical exploration**, with the direction is `down`, there is no open corner."
   ]
  },
  {
   "cell_type": "markdown",
   "metadata": {},
   "source": [
    "**Tow Open Corners**\n",
    "\n",
    "In the example below:\n",
    "- At `S`\n",
    "- During a **vertical exploration**\n",
    "- With `direction = up`\n",
    "\n",
    "There two open corners on the left and on the right."
   ]
  },
  {
   "cell_type": "code",
   "execution_count": 36,
   "metadata": {},
   "outputs": [
    {
     "output_type": "execute_result",
     "data": {
      "text/plain": "['+-----------+------------------------------------+',\n '|           |                                    |',\n '| (closet)  |                                    |',\n '|           |                                    |',\n '+-----------+                                    |',\n '            |                                    |',\n '            |                                    +--------+',\n '            |                                             |',\n '    +-------+                                             |',\n '    |                                                     |',\n '    |                                                     |',\n '    +-------+                S                   +--------+',\n '            |                                    |',\n '            |                                    |',\n '       +----+                                    |',\n '       |                                         |',\n '       +----+                                    |',\n '            |               (sleeping room)      |',\n '            +------------------------------------+']"
     },
     "metadata": {},
     "execution_count": 36
    }
   ],
   "source": [
    "notebook_print_of(f'{EXAMPLES_FOLDER}/12.two_open_corners.txt')"
   ]
  },
  {
   "cell_type": "markdown",
   "metadata": {},
   "source": [
    "#### IDEA 5: Stacking the checkpoints\n",
    "\n",
    "In this part, I will try to generalize the previous intuitive idea so that it can allow to find a room name from a chair position.\n",
    "\n",
    "In the following, we will use the **checkpoint**. Let's define it first.\n",
    "\n",
    "A **Checkpoint** is a dictionary that contains 2 keys.\n",
    "- `coord`: the coordinates we want to move the chair to when we start an exploration.\n",
    "- `exp_type`: the type of exporation that we want to perform: **vertical** or **horizontal**.\n",
    "\n",
    "Then from the `search_room()` already we define lists of checkpoints that will be updated all along the research:\n",
    "- `stack_checkpoints`: a list of the checkpoints that we want to explore. At a given time when we run the function `search_room()`, the future checkpoint that needs to be explored will be the last element of `stack_checkpoints` that waits to be poped out from the list. This element will also be the latest one added to the list. It is then a stack.\n",
    "- `found_checkpoints`: a list of all the checkpoints that we have encountered so far. \n",
    "\n",
    "***Note:*** *It would have made more sense to create this object as a `set`. But `dict` objects being mutable and `set` objects, it is impossible to create a set of dictionaries in Python.*\n"
   ]
  },
  {
   "cell_type": "markdown",
   "metadata": {},
   "source": [
    "Within the `search_room()` function, we initiate `stack_checkpoints` and `found_checkpoints` with two checkpoints:\n",
    "\n",
    "1. The initial coordinates of the chair with a horizontal type of exploration\n",
    "2. The initial coordinates of the chair with a vertical type of exploration\n",
    "\n",
    "This ensures to either find the room directly in the area that we can explore or find at least one open corner during one of the explorations.\n",
    "\n",
    "In the **while** loop of the same function, until we find the room:\n",
    "\n",
    "1. We pop the last checkpoint in `stack_checkpoints` extract:\n",
    "    - `(i, j)`: the coordinates of the checkpoint\n",
    "    - exp_type: the type of exploration we want to perform.\n",
    "    \n",
    "2. We run the `explore()` with the defined variables: `apartment`, `exp_type`, `i`, `j`, `stack_checkpoints`, `found_checkpoints`. This `explore()` function will either run the `explore_horizontal_moves()` function or the `explore_verticalal_moves()` function depending on the value of `exp_type`. The `explore()` function will return `room_of_chair, (i, j)`:\n",
    "    - The room name if found and if not the string `'not_found'`  \n",
    "    \n",
    "    - The coordinates of the chair at the end of the performed exploration. We keep these coordinates in case the room name was not found during the exploration so that we can run the `change_pos()` function at the next iteration of the loop with them and the coordinates of the next checkpoint.\n"
   ]
  },
  {
   "cell_type": "markdown",
   "metadata": {},
   "source": [
    "The `stack_checkpoints` and `found_checkpoints` variables are  passed through the `explore()` function and then either to the `explore_vertical_moves()` function or `explore_vertical_moves()` function to be updated.\n",
    "\n",
    "In these functions, wihin the while loop, after looking for **open corners**, we run the function `update_checkpoints()`.\n",
    "\n",
    "This function takes as inputs:\n",
    "- `stack_checkpoints` \n",
    "- `found_checkpoints`\n",
    "- `new_open_corners`: the list of the open corners we found just before entering the function\n",
    "- `direction_when_found`: the direction the chair was moving when it found the open corner in `{'right', 'left', 'up', 'down'}\n",
    "\n",
    "We loop throuh the 0, 1 or 2 **open corners**.\n",
    "For each of them we build the 2 `new_checkpoints` with:\n",
    "- `coord`: \"just around the open corner\" (see the examples below)\n",
    "- `exp_type`: one `'h'`, one `'v'`. We add the checkpoint with an `exp_type` different than the current one in the last place (ex: `direction_when_found = `left`, so the current exp_type is 'h', so we stack 'h' first and 'v' second for the next checkpoint). This is done to optimize the research.\n",
    "\n",
    "Finally We loop over the the built checkpoints and for each checkpoint, we add it to `found_checkpoints` and `stack_checkpoints` only if it is not present in `found_checkpoints`. This avoids entering into the same procedures and not getting out the operattions."
   ]
  },
  {
   "cell_type": "markdown",
   "metadata": {},
   "source": [
    "In the example below you can find an example of a **vertical exploration**, from the chair `S`. The found checkpoints that will be stacked are names `c_n`, (c1 being found before c2 ...)"
   ]
  },
  {
   "cell_type": "code",
   "execution_count": 37,
   "metadata": {},
   "outputs": [
    {
     "output_type": "execute_result",
     "data": {
      "text/plain": "['+-----------+------------------------------------+',\n '|           |                 11                 |',\n '| (closet)  |                 10                 |',\n '|           |                  9                 |',\n '+-----------+                  8                 |',\n '            |                  7                 |',\n '            |                  6                 +--------+',\n '            |                  5                          |',\n '    +-------+                  4                          |',\n '    |                          3                          |',\n '    |      c1                  2                  c2      |',\n '    +-------+                  1                 +--------+',\n '            |                  S                 |',\n '            |                 12                 |',\n '       +----+                 13                 |',\n '       |   c3                 14                 |',\n '       +----+                 15                 |',\n '            |                 16 (sleeping room) |',\n '            +------------------------------------+']"
     },
     "metadata": {},
     "execution_count": 37
    }
   ],
   "source": [
    "notebook_print_of(f'{EXAMPLES_FOLDER}/13.checkpoints_vertical_exploration.txt')"
   ]
  },
  {
   "cell_type": "markdown",
   "metadata": {},
   "source": [
    "To have more insights on the moves of a chair, in more complex cases, I advise you to follow the instructions in the `README.md` file."
   ]
  },
  {
   "cell_type": "markdown",
   "metadata": {},
   "source": [
    "### Step 3.3: Save the result\n",
    "\n",
    "The algorithmic strategy detailed above will allow to find the corresponding room name for each `coord` of chairs in the `apartment`. \n",
    "\n",
    "If we get back to the **For** loop of the **step 3**, this is performed with the `search_room()` function. The room name is then saved as the variable `room_of_chair`.\n",
    "\n",
    "Right before we enter the **For** loop of the **step 3**, we initiate a `defauldict(list)` called `dict_rooms_chairs`. This dictionary will have as:\n",
    "- **keys**: the room names\n",
    "- **values**: the list of the chairs in the room chairs\n",
    "\n",
    "It will be updated in the loop after finding the `room_of_chair` by appending `chair` to the value of the key `room_of_chair`, which is a list. We use the object `defauldict` so that we don't have to initialize the keys with empty lists at any time.\n"
   ]
  },
  {
   "cell_type": "markdown",
   "metadata": {},
   "source": [
    "## Step 4: Transform the result and display it\n",
    "\n",
    "The object `dict_rooms_chairs` contains all the information needed to generate the output in the terminal. Now, we just need to focus on how to transform it so that it meets the requiremnts of the `task_en.py` file."
   ]
  },
  {
   "cell_type": "markdown",
   "metadata": {},
   "source": [
    "1. From `dict_rooms_chairs`, we make the dictionary `grouped_dict_room_chairs` with the function `group_dict_room_chairs` which has as:\n",
    "- **keys:** the rooms of the apartment\n",
    "- **values**: the dictionary which gives for each chair its count in the room.\n",
    "\n",
    "***Note:*** *The room that are not present in a given room will be given a count of 0*\n",
    "\n",
    "2. From `dict_rooms_chairs`, we make the dictionary `dict_total_chairs` with the function `make_total_dict_result` which has as:\n",
    "- **keys:** the chairs in `apartment_init`\n",
    "- **values**: their count in `apartment_init`\n",
    "\n",
    "3. As we could from the first notebook already make this dictionary of total results without running this algorithm, we can now compare the results before and after it. This is performed by the fucntion `check_total_chairs`.\n",
    " Having a match between these two dictionaries is a necessary condition for getting the correction result, that's why, we run an assertion.\n",
    "\n",
    " 4. When the match is checked, we create the dictionary: `grouped_dict_final_output` which is `grouped_dict_rooms_chairs to which we add the key-value pair:\n",
    " - **key:** `'total'`\n",
    " - **value:** `dict_total_chairs`\n",
    "\n",
    "`grouped_dict_final_output` contains the information of every pair of rows of the final output in the console, as key-value pairs.\n",
    "\n",
    "5. We finally print the output result in the console by running the function grouped_dict_final_output(). This function calls the function print_element_console() for each element of `grouped_dict_final_output` to print out in the console:\n",
    "- First, the key `'total'` key and its room repartition\n",
    "- Second, the room names and their key repartition in alphabetical order as required in the `task_en.txt` file.\n"
   ]
  },
  {
   "cell_type": "markdown",
   "metadata": {},
   "source": [
    "This wraps up the detailed description of the script code. Check out the next notebook for a complexity evaluation of the algorithm."
   ]
  },
  {
   "cell_type": "code",
   "execution_count": null,
   "metadata": {},
   "outputs": [],
   "source": []
  }
 ]
}