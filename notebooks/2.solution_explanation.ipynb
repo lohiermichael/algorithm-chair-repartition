{
 "metadata": {
  "language_info": {
   "codemirror_mode": {
    "name": "ipython",
    "version": 3
   },
   "file_extension": ".py",
   "mimetype": "text/x-python",
   "name": "python",
   "nbconvert_exporter": "python",
   "pygments_lexer": "ipython3",
   "version": 3
  },
  "orig_nbformat": 2,
  "kernelspec": {
   "name": "python_defaultSpec_1595148006785",
   "display_name": "Python 3.8.3 64-bit"
  }
 },
 "nbformat": 4,
 "nbformat_minor": 2,
 "cells": [
  {
   "cell_type": "markdown",
   "metadata": {},
   "source": [
    "# Explanation of my solution\n",
    "\n",
    "In this notebook, I am going through the solution code in its order of execution as well as through the thinking process I had to find this solution to the problem.\n",
    "\n",
    "I will name this solution: **Moving the chairs to the room names**.\n",
    "\n",
    "You can follow this code along in the `script.py` file at the root of the directory.\n",
    "\n"
   ]
  },
  {
   "cell_type": "code",
   "execution_count": 2,
   "metadata": {
    "tags": []
   },
   "outputs": [],
   "source": [
    "\n",
    "\n",
    "from utils_notebook import get_project_root, notebook_print_of\n",
    "\n",
    "ROOT = get_project_root()\n",
    "EXAMPLES_FOLDER = str(ROOT) + '/explanatory_rooms'"
   ]
  },
  {
   "cell_type": "markdown",
   "metadata": {},
   "source": [
    "## Overall organization of the code"
   ]
  },
  {
   "cell_type": "markdown",
   "metadata": {},
   "source": [
    "In the `script.py` file we have as:\n",
    "- **Input**: a path to the `txt` file reprensenting an apartment. *ex: rooms.txt*\n",
    "- **Output**: a print in the console of the excepted result, namely the:\n",
    "```\n",
    "- Number of different chair types for the apartment\n",
    "- Number of different chair types per room\n",
    "```\n",
    "as mentioned in the **task_en.txt** file.\n",
    "\n",
    "To perform this task, it runs the `run_solution()` function"
   ]
  },
  {
   "cell_type": "markdown",
   "metadata": {},
   "source": [
    "The `run_solution()` is divided in 4 steps:\n",
    "\n",
    "- **Step 1:** Read the `txt` file\n",
    "- **Step 2:** Locate the chairs in the apartment\n",
    "- **Step 3:** Find the room of each chair\n",
    "- **Step 4:** Transform the result and display it"
   ]
  },
  {
   "cell_type": "markdown",
   "metadata": {},
   "source": [
    "## Preliminary steps"
   ]
  },
  {
   "cell_type": "markdown",
   "metadata": {},
   "source": [
    "### Step 1: Read and transform the txt file\n",
    "\n",
    "I simply read the `room.txt` file or any other `txt` file of the same type and tranform it into a list of lists that I name `apartment_init`. \n",
    "\n",
    "I chose this *list of lists* data structure, i.e. to easily track any point in the apartment with coordinates: i, j as follows: `apartment_init[i][j]` which will be used in the rest of the code.\n",
    "\n",
    "For debugging purposes, note that an apartment as a list of lists can be displayed in the console or the debugger with the function `console_print_of()` present in the `utils.py` file."
   ]
  },
  {
   "cell_type": "markdown",
   "metadata": {},
   "source": [
    "### Step 2: Locate chairs in the apartment\n",
    "\n",
    "1. I scan throught every single pair of coordinates `(i, j)` to build the dictionary: `dict_pos_chairs` with:\n",
    "    - **key**: (i, j) the coordinates of the chairs\n",
    "    - **values**: the coresponding letter of chair in the apartment\n",
    "\n",
    "2. In addition to this dictionary, I also create a list `list_pos_chairs` which gives the positions of chairs ordered vertically and horizontally. Sorting the list this way allows to easily find which chair is treated when we loop over each of them.\n",
    "\n"
   ]
  },
  {
   "cell_type": "markdown",
   "metadata": {},
   "source": [
    "## Step 3: Find the room of each chair \n",
    "### (Main step)\n",
    "\n",
    "This step is divided into 3 sub-steps:\n",
    "- **Step 3.1:** Temporarily remove the other chairs in the apartment\n",
    "- **Step 3.2:** Search the room of a chair\n",
    "- **Step 3.3:** Save the result\n",
    "\n",
    "This hole step is performed looping over the position of the chairs: `list_pos_chairs`. Within the loop the variables are:\n",
    "- `k`: the index in `list_pos_chairs` of the chair. Having the `txt` file open, as `list_pos_chairs` is sorted it is fairly easy to locate the chair with `k`.\n",
    "- `coord = (i, j)` : the coordinates of the chair in the `apartment`\n",
    "-  `chair = apartment_init[i][j]`: the letter of the chair\n"
   ]
  },
  {
   "cell_type": "markdown",
   "metadata": {},
   "source": [
    "### Step 3.1: Temporarily remove the other chairs in the apartment\n",
    "\n",
    "We are now inside the **for** loop and therefore the variables above-mentioned will be used in the explanation.\n",
    "\n",
    "As explained in the introduction, my method consists in moving the letter of each chair. To avoid any kind of conflicts between two chairs letters, I decided to create a copy (or rather a [deepcopy](https://docs.python.org/3/library/copy.html)) of `apartment_init` called `apartment` in which the other chair letters than `chair` will be removed.\n",
    "\n",
    "This is how `apartment` looks like when treating the chair `'S'` located in `i, j = (4, 10)`"
   ]
  },
  {
   "cell_type": "code",
   "execution_count": 3,
   "metadata": {},
   "outputs": [
    {
     "output_type": "execute_result",
     "data": {
      "text/plain": "['+-----------+------------------------------------+',\n '|           |                                    |',\n '| (closet)  |                                    |',\n '|           |                            S       |',\n '|           |         (sleeping room)            |',\n '|           |                                    |',\n '|           |                                    |',\n '+-----------+                                    |',\n '|           |                                    |',\n '|           |                                    |',\n '|           |                                    |',\n '|           +--------------+---------------------+',\n '|                          |                     |',\n '|                          |                     |',\n '|                          |    (office)         |',\n '|                          |                     |',\n '+--------------+           |                     |',\n '|              |           |                     |',\n '| (toilet)     |           |                     |',\n '|              |           |                     |',\n '|              |           |                     |',\n '+--------------+           +---------------------+',\n '|              |           |                     |',\n '|              |           |                     |',\n '|              |           |                     |',\n '| (bathroom)   |           |      (kitchen)      |',\n '|              |           |                     |',\n '|              |           |                     |',\n '|              |           |                     |',\n '|              +           |                     |',\n '|             /            +---------------------+',\n '|            /                                   |',\n '|           /                                    |',\n '|          /                                     |',\n '+---------+                                      |',\n '|                                                |',\n '|                                                |',\n '|                (living room)                   |',\n '|                                                |',\n '|                                                |',\n '|                                                |',\n '|                                                |',\n '|                                                |',\n '+--------------------------+---------------------+',\n '                           |                     |',\n '                           |                     |',\n '                           |  (balcony)          |',\n '                           |                     |',\n '                           |                     |',\n '                           +---------------------+']"
     },
     "metadata": {},
     "execution_count": 3
    }
   ],
   "source": [
    "notebook_print_of(f'{EXAMPLES_FOLDER}/1.rooms_one_chair.txt')"
   ]
  },
  {
   "cell_type": "markdown",
   "metadata": {},
   "source": [
    "### Step 3.2: Search the room of a chair\n",
    "\n",
    "#### (The core of the algorithm)\n",
    "\n",
    "For this step, we call the function `search_room()` that has as inputs:\n",
    "- `apartment`: the apartment with only on chair present\n",
    "- `coord`: the coordinates of the chair\n",
    "an return:\n",
    "- `room_of_chair`: the room name, the chair belongs to\n",
    "\n",
    "In the above example:\n",
    "```\n",
    "search_room(apartment, (4, 10)) = 'sleeping room'\n",
    "```\n",
    "\n",
    "The best way to explain the logic behind this piece of code is I think to go through the different ideas that I had."
   ]
  },
  {
   "cell_type": "markdown",
   "metadata": {},
   "source": [
    "#### First idea: room name on the same row\n",
    "\n",
    "The idea consists of:\n",
    "\n",
    "1. Checking if a chair located in `(i, j)` is in the same row as its room name.\n",
    "2. Saving this room name\n",
    "\n",
    "Building the object `apartment` as a list of lists, it fairly easy to extract a given row `i`. We just need to define: `row = apartment[i]`"
   ]
  },
  {
   "cell_type": "markdown",
   "metadata": {},
   "source": [
    "If we consider this situation:"
   ]
  },
  {
   "cell_type": "code",
   "execution_count": 4,
   "metadata": {},
   "outputs": [
    {
     "output_type": "execute_result",
     "data": {
      "text/plain": "['+-----------+------------------------------------+',\n '|           |                                    |',\n '|           |                                    |',\n '|  (closet) |                                    |',\n '|           |                                    |',\n '|           |                                    |',\n '|           |                                    |',\n '+-----------+                                    |',\n '            |         (sleeping room)     S      |',\n '            |                                    |',\n '            |                                    |',\n '            +------------------------------------+']"
     },
     "metadata": {},
     "execution_count": 4
    }
   ],
   "source": [
    "notebook_print_of(f'{EXAMPLES_FOLDER}/2.chair_room_same_row.txt')"
   ]
  },
  {
   "cell_type": "markdown",
   "metadata": {},
   "source": [
    "In this situation, asserting if the chair has its room name on the same row can be done by checking if a paranthesis belongs to this row."
   ]
  },
  {
   "cell_type": "markdown",
   "metadata": {},
   "source": [
    "However, if we are in this situation:"
   ]
  },
  {
   "cell_type": "code",
   "execution_count": 5,
   "metadata": {},
   "outputs": [
    {
     "output_type": "execute_result",
     "data": {
      "text/plain": "['+-----------+------------------------------------+',\n '|           |                                    |',\n '|           |                                    |',\n '|           |                                    |',\n '| (closet)  |              S                     |',\n '|           |                                    |',\n '|           |                                    |',\n '+-----------+                                    |',\n '            |              (sleeping room)       |',\n '            |                                    |',\n '            |                                    |',\n '            +------------------------------------+']"
     },
     "metadata": {},
     "execution_count": 5
    }
   ],
   "source": [
    "notebook_print_of(f'{EXAMPLES_FOLDER}/3.not_good_room_same_row.txt')"
   ]
  },
  {
   "cell_type": "markdown",
   "metadata": {},
   "source": [
    "Visually, it is obvious to say that the chair `S` is in the room `sleeping room`. But the row where `S` is contains another room name: `closet`.\n",
    "\n",
    "The strategy of finding a paranthesis on the same row, will give a false result in this case."
   ]
  },
  {
   "cell_type": "markdown",
   "metadata": {},
   "source": [
    "The right approach is:\n",
    "- to check if a room name is on the same row as a chair\n",
    "- if so, check if exclusively `' '` characters are between the chair letter and the room name on the same row.\n",
    "\n",
    "This is performed by the function `is_room_on_same_row()`, with an equivalent method:\n",
    "- we remove `' '` from the row\n",
    "- we check if directly preceded by a `)` or followed by a `(` as room names are wrapped in them."
   ]
  },
  {
   "cell_type": "markdown",
   "metadata": {},
   "source": [
    "As the second step of this first idea, if `is_room_on_same_row(apartment, i, j)` has a `True` value, we want to save the found room name. \n",
    "\n",
    "This task is performed by the function `found_room_on_same_row()` in this way, we go through the `row = apartment[i]`:\n",
    "\n",
    "1. We start from the chair in `row[j]`\n",
    "2. We create two indices `j_left` and `j_right`\n",
    "3. We move `j_left` on the left and `j_right` on the right, while no paranthesis is found. It obviously terminates as `is_room_on_same_row(apartment, i, j)` is `True`. \n",
    "\n",
    "***Note:*** *Notice that the value of `j_left` and `j_right` is only updated when not encountering an element of `sep_chars`. This ensures to only stay within the room*. `sep_chars` are the characters of separation of a room that you can find in the `special_characters.py` file.\n",
    "\n",
    "4. Once a paranthesis is encountered, we set the string `side` which is in `{'left', 'right'}` depending on where the paranthesis was found.\n",
    "5. We finally build the room name character after character on either side depending on the value of `side`."
   ]
  },
  {
   "cell_type": "markdown",
   "metadata": {},
   "source": [
    "#### Second idea: Moving vertically and explore horizontally\n",
    "\n",
    "So far, I have been able to find a room name of a chair if they were both on the same line. But what if that was not the case as in the example below?"
   ]
  },
  {
   "cell_type": "code",
   "execution_count": 6,
   "metadata": {},
   "outputs": [
    {
     "output_type": "execute_result",
     "data": {
      "text/plain": "['+-----------+------------------------------------+',\n '|           |                                    |',\n '|           |                                    |',\n '|           |                                    |',\n '| (closet)  |                                    |',\n '|           |                                    |',\n '|           |      S                             |',\n '+-----------+                                    |',\n '            |              (sleeping room)       |',\n '            |                                    |',\n '            |                                    |',\n '            +------------------------------------+']"
     },
     "metadata": {},
     "execution_count": 6
    }
   ],
   "source": [
    "notebook_print_of(f'{EXAMPLES_FOLDER}/4.room_not_on_same_row.txt')"
   ]
  },
  {
   "cell_type": "markdown",
   "metadata": {},
   "source": [
    "The idea I got, was to vertically displace the chair so that it lands on a row where its room name is.\n",
    "\n",
    "This deplacement is performed by the function `change_pos()` which has as inputs:\n",
    "- `apartment`\n",
    "- `i`, `j`: the old coordinates\n",
    "- `new_i`, `new_j`: the coordinates of the spot we want to move the chair to\n",
    "\n",
    "The function:\n",
    "1. switches the characters at `(i, j)` and `(new_i, new_j)`\n",
    "2. returns the updated coordinates."
   ]
  },
  {
   "cell_type": "markdown",
   "metadata": {},
   "source": [
    "Now that we know how to move a chair around, let's see how we can move vertically to find the room name.\n",
    "\n",
    "I decided to:\n",
    "\n",
    "1. Move the chair to the empty space just above it until we reach the top of the room, i.e., the above character is in `sep_chars`.\n",
    "\n",
    "2. If the top of the room is reached, get back to the initial position.\n",
    "\n",
    "3. Move the chair to the empty space just below it until we reach the bottom of the room, i.e., the below character is in `sep_chars`.\n",
    "\n",
    "At each step of this procedure, we check if the room name is on the same row, we break it.\n",
    "\n",
    "\n",
    "This task is perfomed the `explore_vertical_moves()` function. This function does other things on the side that we will explain later but the core of the function is explained above.\n",
    "\n",
    "Here are a few examples. The numbers give the positions in order of the different positions that the chair `S` takes. \n"
   ]
  },
  {
   "cell_type": "code",
   "execution_count": 7,
   "metadata": {},
   "outputs": [
    {
     "output_type": "execute_result",
     "data": {
      "text/plain": "['+-----------+------------------------------------+',\n '|           |                                    |',\n '| (closet)  |    (sleeping room)             3   |',\n '|           |                                2   |',\n '+-----------+                                1   |',\n '            |                                S   |',\n '            |                                    |',\n '            +------------------------------------+']"
     },
     "metadata": {},
     "execution_count": 7
    }
   ],
   "source": [
    "notebook_print_of(f'{EXAMPLES_FOLDER}/5.horizontal_exploration_1.txt')"
   ]
  },
  {
   "cell_type": "code",
   "execution_count": 8,
   "metadata": {},
   "outputs": [
    {
     "output_type": "execute_result",
     "data": {
      "text/plain": "['+-----------+------------------------------------+',\n '|           |      2                             |',\n '| (closet)  |      1                             |',\n '|           |      S                             |',\n '+-----------+      3                             |',\n '            |      4       (sleeping room)       |',\n '            |                                    |',\n '            +------------------------------------+']"
     },
     "metadata": {},
     "execution_count": 8
    }
   ],
   "source": [
    "notebook_print_of(f'{EXAMPLES_FOLDER}/6.horizontal_exploration_2.txt')"
   ]
  },
  {
   "cell_type": "markdown",
   "metadata": {},
   "source": [
    "#### ALERT: Problem if the chair is under the room\n",
    "\n",
    "Moving vertically and exploring horizontally seems to work fine, if of course we can move vertically. What if one of the character of the room name or one of the paranthesis that wraps it is on the same **column** as `chair`. If we try to move the chair up and down, it will eventually \"bump into\" the room name which will create a mess.\n",
    "\n",
    "Here is an example of such a case:"
   ]
  },
  {
   "cell_type": "code",
   "execution_count": 11,
   "metadata": {},
   "outputs": [
    {
     "output_type": "execute_result",
     "data": {
      "text/plain": "['+-----------+------------------------------------+',\n '|           |                                    |',\n '| (closet)  |                 S                  |',\n '|           |                                    |',\n '+-----------+                                    |',\n '            |              (sleeping room)       |',\n '            |                                    |',\n '            +------------------------------------+']"
     },
     "metadata": {},
     "execution_count": 11
    }
   ],
   "source": [
    "notebook_print_of(f'{EXAMPLES_FOLDER}/7.chair_and_room_on_same column.txt')\n"
   ]
  },
  {
   "cell_type": "markdown",
   "metadata": {},
   "source": [
    "The solution I found to this problem is to introduce a **vertical check** before moving the chair up and down. This is performed by the `is_room_on_same_column()`\n",
    "\n",
    "The approach is similar to that of `is_room_on_same_column()` but once the `' '` are removed, instead of looking for a paranthesis, we look for a character that is not in `sep_char`, i.e., a letter or a paranthesis.\n",
    "\n",
    "In the example above, the column of `S` when the `' '` are removed, is:\n",
    "`['-', 'S', 'e', '-']` as `'e'` follows `'S'` and is not in `sep_chars`, there is a room name on the same column.\n",
    "\n",
    "***Note:*** *There is a side case to this problem of this problem. I will tackle it in the next notebook*"
   ]
  },
  {
   "cell_type": "markdown",
   "metadata": {},
   "source": [
    "When the `is_room_on_same_column()` is `True`, there is no need to move the chair up and down. Instead we use the function `find_room_on_same_column()`.\n",
    "\n",
    "This function, as its equivalent `find_room_on_same_row()`:\n",
    "\n",
    "1. We start from the chair in `col[i]`\n",
    "2. We create two indices `i_up` and `j_down`\n",
    "3. We move `i_up` up and `i_dowm` down, while a paranthesis is not found. It obviously terminates as `is_room_on_same_row(apartment, i, j)` is `True`. \n",
    "\n",
    "***Note:*** *Notice that the value of `j_left` and `j_right` is only updated when not encountering an element of `sep_chars`. This ensures to only stay within the room*. `sep_chars` are the characters of separation of a room that you can find in the `special_characters.py` file.\n",
    "\n",
    "4. Once a paranthesis is encountered, we set the string `side` which is in `{'left', 'right'}` depending on where the paranthesis was found.\n",
    "5. We finally build the room name character after character on either side depending on the value of `side`."
   ]
  }
 ]
}