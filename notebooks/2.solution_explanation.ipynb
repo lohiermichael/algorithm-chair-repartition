{
 "metadata": {
  "language_info": {
   "codemirror_mode": {
    "name": "ipython",
    "version": 3
   },
   "file_extension": ".py",
   "mimetype": "text/x-python",
   "name": "python",
   "nbconvert_exporter": "python",
   "pygments_lexer": "ipython3",
   "version": 3
  },
  "orig_nbformat": 2,
  "kernelspec": {
   "name": "python_defaultSpec_1595046974748",
   "display_name": "Python 3.8.3 64-bit"
  }
 },
 "nbformat": 4,
 "nbformat_minor": 2,
 "cells": [
  {
   "cell_type": "markdown",
   "metadata": {},
   "source": [
    "# Explanation of my solution\n",
    "\n",
    "In this notebook, I am going through the thinking process I had to find a solution to this problem.\n",
    "\n",
    "I will name this solution: **Moving the chairs to the room names**.\n",
    "\n",
    "You can follow this code along in the `script.py` file at the root of the directory.\n",
    "\n"
   ]
  },
  {
   "cell_type": "code",
   "execution_count": 1,
   "metadata": {
    "tags": []
   },
   "outputs": [],
   "source": [
    "\n",
    "\n",
    "from utils_notebook import get_project_root, notebook_print_of\n",
    "\n",
    "ROOT = get_project_root()\n",
    "ROOMS_FOLDER = str(ROOT) + '/explanatory_rooms'"
   ]
  },
  {
   "cell_type": "markdown",
   "metadata": {},
   "source": [
    "## Overall organization of the code"
   ]
  },
  {
   "cell_type": "markdown",
   "metadata": {},
   "source": [
    "In the `script.py` file we have as:\n",
    "- **Input**: a path to the `txt` file reprensenting an apartment. *ex: rooms.txt*\n",
    "- **Output**: a print in the console of the excepted result, namely: \n",
    "```\n",
    "- Number of different chair types for the apartment\n",
    "- Number of different chair types per room\n",
    "```\n",
    "as mentioned in the **task_en.txt** file.\n",
    "\n",
    "To perform this task, it runs the `run_solution()` function"
   ]
  },
  {
   "cell_type": "markdown",
   "metadata": {},
   "source": [
    "The `run_solution()` is divided in 4 steps:\n",
    "\n",
    "- Step 1: Read the `txt` file\n",
    "- Step 2: Locate the chairs in the apartment\n",
    "- Step 3: Find the room of each chair\n",
    "- Step 4: Transform the result and display it"
   ]
  },
  {
   "cell_type": "markdown",
   "metadata": {},
   "source": [
    "## Preliminary steps"
   ]
  },
  {
   "cell_type": "markdown",
   "metadata": {},
   "source": [
    "### Step 1: Read and transform the txt file\n",
    "\n",
    "I simply read the `room.txt` file or any other `txt` file of the same type and tranform it into a list of lists that I name `apartment_init`. \n",
    "\n",
    "I chose this *list of lists* data structure, i.e. to easily track any point in the apartment with coordinates: i, j as follows: `apartment_init[i][j]` which will be used in the rest of the code.\n",
    "\n",
    "For debugging purposes, note that an apartment as a list of lists can be displayed in the console or the debugger with the function `console_print_of()` present in the `utils.py` file."
   ]
  },
  {
   "cell_type": "markdown",
   "metadata": {},
   "source": [
    "### Step 2: Locate chairs in the apartment\n",
    "\n",
    "1. I scan throught every single pair of coordinates `(i, j)` to build the dictionary: `dict_pos_chairs` with:\n",
    "    - **key**: (i, j) the coordinates of the chairs\n",
    "    - **values**: the coresponding letter of chair in the apartment\n",
    "\n",
    "2. In addition to this dictionary, I also create a list `list_pos_chairs` which gives the positions of chairs ordered vertically and horizontally. Sorting the list this way allows to easily find which chair is treated when we loop over each of them.\n",
    "\n"
   ]
  },
  {
   "cell_type": "markdown",
   "metadata": {},
   "source": [
    "## Step 3: Find the room of each chair \n",
    "### (Main step)\n",
    "\n",
    "This step is divided into 3 sub-steps:\n",
    "- Step 3.1: Temporarily remove the other chairs in the apartment\n",
    "- Step 3.2: Search the room of a chair\n",
    "- Step 3.3: Save the result\n",
    "\n",
    "This hole step is performed looping over the position of the chairs: `list_pos_chairs`. Within the loop the variables are:\n",
    "- `k`: the index in `list_pos_chairs` of the chair. Having the `txt` file open, as `list_pos_chairs` is sorted it is fairly easy to locate the chair with `k`.\n",
    "- `coord`: the coordinates of the chair in the `apartment`\n",
    "-  `chair = apartment_init[i][j]`\n"
   ]
  },
  {
   "cell_type": "code",
   "execution_count": null,
   "metadata": {},
   "outputs": [],
   "source": []
  },
  {
   "cell_type": "markdown",
   "metadata": {},
   "source": [
    "I have already transformed the input string extracted from the txt file as list of list that name `apartment_init`. For each chair, when I explore the apartment and move the chair to find the room it is in, I temporarily remove the other chairs in the whole apartment to avoid any type of conflict.\n",
    "\n",
    "This action is performed by the function: `remove_chairs()`. The result is saved as the list of lists: `apartment`.\n",
    "\n",
    "This is how `apartment` can look like:"
   ]
  },
  {
   "cell_type": "code",
   "execution_count": 3,
   "metadata": {},
   "outputs": [
    {
     "output_type": "execute_result",
     "data": {
      "text/plain": "['+-----------+------------------------------------+',\n '|           |                                    |',\n '| (closet)  |                                    |',\n '|           |                            S       |',\n '|           |         (sleeping room)            |',\n '|           |                                    |',\n '|           |                                    |',\n '+-----------+                                    |',\n '|           |                                    |',\n '|           |                                    |',\n '|           |                                    |',\n '|           +--------------+---------------------+',\n '|                          |                     |',\n '|                          |                     |',\n '|                          |    (office)         |',\n '|                          |                     |',\n '+--------------+           |                     |',\n '|              |           |                     |',\n '| (toilet)     |           |                     |',\n '|              |           |                     |',\n '|              |           |                     |',\n '+--------------+           +---------------------+',\n '|              |           |                     |',\n '|              |           |                     |',\n '|              |           |                     |',\n '| (bathroom)   |           |      (kitchen)      |',\n '|              |           |                     |',\n '|              |           |                     |',\n '|              |           |                     |',\n '|              +           |                     |',\n '|             /            +---------------------+',\n '|            /                                   |',\n '|           /                                    |',\n '|          /                                     |',\n '+---------+                                      |',\n '|                                                |',\n '|                                                |',\n '|                (living room)                   |',\n '|                                                |',\n '|                                                |',\n '|                                                |',\n '|                                                |',\n '|                                                |',\n '+--------------------------+---------------------+',\n '                           |                     |',\n '                           |                     |',\n '                           |  (balcony)          |',\n '                           |                     |',\n '                           |                     |',\n '                           +---------------------+']"
     },
     "metadata": {},
     "execution_count": 3
    }
   ],
   "source": [
    "notebook_print_of(f'{ROOMS_FOLDER}/1.rooms_one_chair.txt')"
   ]
  },
  {
   "cell_type": "markdown",
   "metadata": {},
   "source": [
    "Once "
   ]
  }
 ]
}