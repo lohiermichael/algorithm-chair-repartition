{
 "cells": [
  {
   "cell_type": "markdown",
   "metadata": {},
   "source": [
    "# Exploration of the input data\n",
    "\n",
    "In this notebook, I am going to analyze the input data `room.txt`."
   ]
  },
  {
   "cell_type": "code",
   "execution_count": 1,
   "metadata": {},
   "outputs": [],
   "source": [
    " from collections import Counter, defaultdict\n",
    " import re\n",
    " from copy import deepcopy"
   ]
  },
  {
   "cell_type": "markdown",
   "metadata": {},
   "source": [
    "## Read and transform the input data\n"
   ]
  },
  {
   "cell_type": "markdown",
   "metadata": {},
   "source": [
    "From the `task_en.txt` file, we can already extract information about the chairs:\n",
    "\n",
    "```\n",
    "The different types of chairs are as follows:\n",
    "W: wooden chair\n",
    "P: plastic chair\n",
    "S: sofa chair\n",
    "C: china chair\n",
    "```\n",
    "\n",
    "As we need theses capital letters to be identified to chairs, in the following, we are going to save them in a `set` called `chairs`"
   ]
  },
  {
   "cell_type": "code",
   "execution_count": 2,
   "metadata": {},
   "outputs": [],
   "source": [
    "chairs = {'W', 'P', 'S', 'C'}"
   ]
  },
  {
   "cell_type": "markdown",
   "metadata": {},
   "source": [
    "### Import the data as a string"
   ]
  },
  {
   "cell_type": "code",
   "execution_count": 3,
   "metadata": {},
   "outputs": [
    {
     "output_type": "execute_result",
     "data": {
      "text/plain": "Counter({'+': 24,\n         '-': 240,\n         '\\n': 49,\n         '|': 124,\n         ' ': 2005,\n         '(': 8,\n         'c': 4,\n         'l': 5,\n         'o': 10,\n         's': 2,\n         'e': 6,\n         't': 5,\n         ')': 8,\n         'P': 7,\n         'S': 3,\n         'p': 1,\n         'i': 6,\n         'n': 4,\n         'g': 2,\n         'r': 3,\n         'm': 3,\n         'W': 14,\n         'f': 2,\n         'C': 1,\n         'b': 2,\n         'a': 2,\n         'h': 2,\n         'k': 1,\n         '/': 4,\n         'v': 1,\n         'y': 1})"
     },
     "metadata": {},
     "execution_count": 3
    }
   ],
   "source": [
    "with open('../rooms.txt', 'r') as f:\n",
    "    apartment_string = f.read()\n",
    "Counter(apartment_string)"
   ]
  },
  {
   "cell_type": "markdown",
   "metadata": {},
   "source": [
    "From the function counter, we can already get a whole lot of information about the data:\n",
    "- The `'-'`, `'|'` and `'/'` are the strings that delimit the areas of the rooms. The room being longer than large: <br>```number_of('-') < number_of('|')```\n",
    "\n",
    "- The number of `'+'` gives the number of corners in the apartment\n",
    "\n",
    "- The number of `'('` or `')'` gives the number of rooms\n",
    "\n",
    "- The number of `'\\n'` + 1 gives the length of the apartment\n",
    "\n",
    "- **Most importantly:** gathering the capital letters keys and their counts already gives the relevant information for the first output line of the problem: **total**. As we need to find the chair repartition in each room as well, the problem is not yet solved, but we can definitively save the **total** result as a future check when the information of each room is gathered.\n",
    "\n",
    "### Observation\n",
    "\n",
    "According to the `task_en.txt` file, mistakes occured in the past when: *manually counting the various types of chairs*. This refers to the total number of chairs. \n",
    "\n",
    "I imagine a mistake being for example: forgetting a china chair when delivering all the chairs.\n",
    "\n",
    "Considering that:\n",
    "- gathering only the total number of each type of chairs can be quickly implemented\n",
    "- this implementation will solve most of the client's problems\n",
    "- solving the problem of finding the repartition of the chairs in each room looks much more complex\n",
    "\n",
    "If I were given this problem in the context of my job, with a short deadline to meet, I would explain the client, the technical implications of the result that he would like to get. And I would propose him to firstly and temporarily experiment the quick-and-easy solution:\n",
    "- Use my program to know the total number of each type of chair\n",
    "- Use his existing plans to locate the chairs in the room"
   ]
  },
  {
   "cell_type": "code",
   "execution_count": 4,
   "metadata": {
    "tags": []
   },
   "outputs": [
    {
     "output_type": "stream",
     "name": "stdout",
     "text": "8\n"
    },
    {
     "output_type": "execute_result",
     "data": {
      "text/plain": "{'P': 7, 'S': 3, 'W': 14, 'C': 1}"
     },
     "metadata": {},
     "execution_count": 4
    }
   ],
   "source": [
    "n_rooms = Counter(apartment_string)['(']\n",
    "print(n_rooms)\n",
    "\n",
    "total = {chair: Counter(apartment_string)[chair] for chair in Counter(apartment_string) if chair in chairs}\n",
    "total"
   ]
  },
  {
   "cell_type": "markdown",
   "metadata": {},
   "source": [
    "Check the next notebook. You'll find out an explanation of the solution I found for the problem"
   ]
  },
  {
   "cell_type": "code",
   "execution_count": null,
   "metadata": {},
   "outputs": [],
   "source": []
  }
 ],
 "metadata": {
  "language_info": {
   "codemirror_mode": {
    "name": "ipython",
    "version": 3
   },
   "file_extension": ".py",
   "mimetype": "text/x-python",
   "name": "python",
   "nbconvert_exporter": "python",
   "pygments_lexer": "ipython3",
   "version": 3
  },
  "orig_nbformat": 2,
  "kernelspec": {
   "name": "python_defaultSpec_1595177116910",
   "display_name": "Python 3.8.3 64-bit ('chair-detection': conda)"
  }
 },
 "nbformat": 4,
 "nbformat_minor": 2
}