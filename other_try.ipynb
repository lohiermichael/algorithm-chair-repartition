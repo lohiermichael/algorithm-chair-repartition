{
 "cells": [
  {
   "cell_type": "markdown",
   "metadata": {},
   "source": [
    "Descent approach"
   ]
  },
  {
   "cell_type": "code",
   "execution_count": null,
   "metadata": {},
   "outputs": [],
   "source": [
    "\n",
    "\n",
    "\n",
    "chairs_current_rooms = None\n",
    "for row in rooms:\n",
    "    count_number_rooms = sum(row[1:-1].count(sep_char) for sep_char in sep_chars) + 1\n",
    "    if not chairs_current_rooms:\n",
    "        chairs_current_rooms = [{'room_name': None, 'chairs': defaultdict(int)} for _ in range(count_number_rooms)]\n",
    "\n",
    "\n",
    "    print(count_number_rooms)\n",
    "\n",
    "    info_rooms = row[1: -1].replace(' ', '').split('|')\n",
    "    \n",
    "    if '-' in row:\n",
    "        print('CHANGE ROOM')\n",
    "        print(info_rooms)\n",
    "\n",
    "\n",
    "    for room_number, info in enumerate(info_rooms):\n",
    "        if not info:\n",
    "            pass\n",
    "        elif info.startswith('('):\n",
    "            chairs_current_rooms[room_number]['room_name'] =  info[1:-1]\n",
    "        elif info in chairs:\n",
    "            chairs_current_rooms[room_number]['chairs'][info]  += 1\n",
    "\n",
    "    print(chairs_current_rooms)\n",
    "    print('\\n')"
   ]
  }
 ],
 "metadata": {
  "language_info": {
   "codemirror_mode": {
    "name": "ipython",
    "version": 3
   },
   "file_extension": ".py",
   "mimetype": "text/x-python",
   "name": "python",
   "nbconvert_exporter": "python",
   "pygments_lexer": "ipython3",
   "version": 3
  },
  "orig_nbformat": 2
 },
 "nbformat": 4,
 "nbformat_minor": 2
}