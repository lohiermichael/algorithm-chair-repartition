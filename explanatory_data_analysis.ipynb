{
 "cells": [
  {
   "cell_type": "markdown",
   "metadata": {},
   "source": [
    "# Explanatory Data Analysis (EDA)\n",
    "\n",
    "In this notebook, I am going to analyze the input data `room.txt` and guide you through my thinking process to find the solution to this problem."
   ]
  },
  {
   "cell_type": "code",
   "execution_count": 12,
   "metadata": {},
   "outputs": [],
   "source": [
    " from collections import Counter, defaultdict\n",
    " import re\n",
    " from copy import deepcopy"
   ]
  },
  {
   "cell_type": "markdown",
   "metadata": {},
   "source": [
    "## Read and transform the input data\n"
   ]
  },
  {
   "cell_type": "markdown",
   "metadata": {},
   "source": [
    "From the `task_en.txt` file, we can already extract information about the chairs:\n",
    "\n",
    "```\n",
    "The different types of chairs are as follows:\n",
    "W: wooden chair\n",
    "P: plastic chair\n",
    "S: sofa chair\n",
    "C: china chair\n",
    "```\n",
    "\n",
    "As we only need the capital letters in the following, we are going to save them in a `set` called `chairs`"
   ]
  },
  {
   "cell_type": "code",
   "execution_count": 13,
   "metadata": {},
   "outputs": [],
   "source": [
    "chairs = {'W', 'P', 'S', 'C'}"
   ]
  },
  {
   "cell_type": "markdown",
   "metadata": {},
   "source": [
    "### Import the data as a string"
   ]
  },
  {
   "cell_type": "code",
   "execution_count": 14,
   "metadata": {},
   "outputs": [
    {
     "output_type": "execute_result",
     "data": {
      "text/plain": "Counter({'+': 24,\n         '-': 240,\n         '\\n': 49,\n         '|': 124,\n         ' ': 2005,\n         '(': 8,\n         'c': 4,\n         'l': 5,\n         'o': 10,\n         's': 2,\n         'e': 6,\n         't': 5,\n         ')': 8,\n         'P': 7,\n         'S': 3,\n         'p': 1,\n         'i': 6,\n         'n': 4,\n         'g': 2,\n         'r': 3,\n         'm': 3,\n         'W': 14,\n         'f': 2,\n         'C': 1,\n         'b': 2,\n         'a': 2,\n         'h': 2,\n         'k': 1,\n         '/': 4,\n         'v': 1,\n         'y': 1})"
     },
     "metadata": {},
     "execution_count": 14
    }
   ],
   "source": [
    "with open('rooms.txt', 'r') as f:\n",
    "    rooms_string = f.read()\n",
    "Counter(rooms_string)"
   ]
  },
  {
   "cell_type": "markdown",
   "metadata": {},
   "source": [
    "From the function counter, we can already get a whole lot of information about the data:\n",
    "- The `'-'`, `'|'` and `'/'` are the strings that delimit the areas of the rooms. The room being longer than large: <br>```number_of('-') < number_of('|')```\n",
    "\n",
    "- The number of `'+'` gives the number of cornxzers in the apartment\n",
    "\n",
    "- The number of `'('` or `')'` gives the number of rooms\n",
    "\n",
    "- The number of `'\\n'` + 1 gives the length of the apartment\n",
    "\n",
    "- **Most importantly:** gathering the capital letters keys and their counts already gives the relevant information for the first output line of the problem: **total**. As we need to find the chair repartition in each room as well, the problem is not yet solved, but we can definitively save the **total** result as a future check when the information of each room is gathered.\n",
    "\n",
    "### Observation\n",
    "\n",
    "According tho the `task_en.txt`, mistakes occured in the past when: *manually counting the various types of chairs*. This refers to the total number of chairs. \n",
    "\n",
    "I imagine a mistake being for example: forgetting a china chair when delivering all the chairs.\n",
    "\n",
    "Considering that:\n",
    "- gathering only the toltal number of each type of chairs can be quickly implemented\n",
    "- this implementation will solve most of the client's problems\n",
    "- solving the problem of finding the repartition of the chairs in each room looks much more complex\n",
    "\n",
    "If I were given this problem in the context of my job, I would explain the client, the technical implications of the result that he would like to get. And I would propose him to first experiment the quick-and-easy solution:\n",
    "- Use my program to know the total number of each type of chair\n",
    "- Use his existing maps to locate the chairs in the room"
   ]
  },
  {
   "cell_type": "code",
   "execution_count": 15,
   "metadata": {
    "tags": []
   },
   "outputs": [
    {
     "output_type": "stream",
     "name": "stdout",
     "text": "8\n"
    },
    {
     "output_type": "execute_result",
     "data": {
      "text/plain": "{'P': 7, 'S': 3, 'W': 14, 'C': 1}"
     },
     "metadata": {},
     "execution_count": 15
    }
   ],
   "source": [
    "n_rooms = Counter(rooms_string)['(']\n",
    "print(n_rooms)\n",
    "\n",
    "total = {chair: Counter(rooms_string)[chair] for chair in Counter(rooms_string) if chair in chairs}\n",
    "total"
   ]
  },
  {
   "cell_type": "markdown",
   "metadata": {},
   "source": [
    "As the input  represents a 2D-plan, I think the best way to locate things in the plan is to transform it into a 2D-array."
   ]
  },
  {
   "cell_type": "code",
   "execution_count": 16,
   "metadata": {},
   "outputs": [
    {
     "output_type": "execute_result",
     "data": {
      "text/plain": "['+-----------+------------------------------------+',\n '|           |                                    |',\n '| (closet)  |                                    |',\n '|         P |                            S       |',\n '|         P |         (sleeping room)            |',\n '|         P |                                    |',\n '|           |                                    |',\n '+-----------+    W                               |',\n '|           |                                    |',\n '|        W  |                                    |',\n '|           |                                    |',\n '|           +--------------+---------------------+',\n '|                          |                     |',\n '|                          |                W W  |',\n '|                          |    (office)         |',\n '|                          |                     |',\n '+--------------+           |                     |',\n '|              |           |                     |',\n '| (toilet)     |           |             P       |',\n '|   C          |           |                     |',\n '|              |           |                     |',\n '+--------------+           +---------------------+',\n '|              |           |                     |',\n '|              |           |                     |',\n '|              |           |                     |',\n '| (bathroom)   |           |      (kitchen)      |',\n '|              |           |                     |',\n '|              |           |      W   W          |',\n '|              |           |      W   W          |',\n '|       P      +           |                     |',\n '|             /            +---------------------+',\n '|            /                                   |',\n '|           /                                    |',\n '|          /                          W    W   W |',\n '+---------+                                      |',\n '|                                                |',\n '| S                                   W    W   W |',\n '|                (living room)                   |',\n '| S                                              |',\n '|                                                |',\n '|                                                |',\n '|                                                |',\n '|                                                |',\n '+--------------------------+---------------------+',\n '                           |                     |',\n '                           |                  P  |',\n '                           |  (balcony)          |',\n '                           |                 P   |',\n '                           |                     |',\n '                           +---------------------+']"
     },
     "metadata": {},
     "execution_count": 16
    }
   ],
   "source": [
    "rooms = [list([j for j in i.split('\\n')][0]) for i in rooms_string.splitlines()]\n",
    "\n",
    "def print_of(rooms):\n",
    "    return list(map(lambda L: ''.join(L), rooms))\n",
    "\n",
    "print_of(rooms)"
   ]
  },
  {
   "cell_type": "code",
   "execution_count": 17,
   "metadata": {},
   "outputs": [
    {
     "output_type": "execute_result",
     "data": {
      "text/plain": "{'+', '-', '/', '\\\\', '|'}"
     },
     "metadata": {},
     "execution_count": 17
    }
   ],
   "source": [
    "sep_chars = {'\\\\', '|', '/', '+', '-'}\n",
    "sep_chars"
   ]
  },
  {
   "cell_type": "code",
   "execution_count": 18,
   "metadata": {},
   "outputs": [],
   "source": [
    "no_room_chars = {'\\\\', '|', '/', '+', '-', ' '}"
   ]
  },
  {
   "cell_type": "markdown",
   "metadata": {},
   "source": [
    "## Move letters approach"
   ]
  },
  {
   "cell_type": "code",
   "execution_count": 19,
   "metadata": {
    "tags": []
   },
   "outputs": [
    {
     "output_type": "stream",
     "name": "stdout",
     "text": "{(3, 10): 'P', (3, 41): 'S', (4, 10): 'P', (5, 10): 'P', (7, 17): 'W', (9, 9): 'W', (13, 44): 'W', (13, 46): 'W', (18, 41): 'P', (19, 4): 'C', (27, 34): 'W', (27, 38): 'W', (28, 34): 'W', (28, 38): 'W', (29, 8): 'P', (33, 38): 'W', (33, 43): 'W', (33, 47): 'W', (36, 2): 'S', (36, 38): 'W', (36, 43): 'W', (36, 47): 'W', (38, 2): 'S', (45, 46): 'P', (47, 45): 'P'}\n"
    },
    {
     "output_type": "execute_result",
     "data": {
      "text/plain": "[(3, 10),\n (3, 41),\n (4, 10),\n (5, 10),\n (7, 17),\n (9, 9),\n (13, 44),\n (13, 46),\n (18, 41),\n (19, 4),\n (27, 34),\n (27, 38),\n (28, 34),\n (28, 38),\n (29, 8),\n (33, 38),\n (33, 43),\n (33, 47),\n (36, 2),\n (36, 38),\n (36, 43),\n (36, 47),\n (38, 2),\n (45, 46),\n (47, 45)]"
     },
     "metadata": {},
     "execution_count": 19
    }
   ],
   "source": [
    "dict_pos_chairs = {}\n",
    "for i, row in enumerate(rooms):\n",
    "    for j, element in enumerate(row):\n",
    "        if element in chairs:\n",
    "            dict_pos_chairs[(i, j)] = element\n",
    "            # room = search_room(i, j)\n",
    "            # rooms_chairs[room][element] += 1\n",
    "\n",
    "print(dict_pos_chairs)\n",
    "list_pos_chairs = list(dict_pos_chairs.keys())\n",
    "list_pos_chairs.sort(key=lambda x: (x[0],x[1]))\n",
    "list_pos_chairs"
   ]
  },
  {
   "cell_type": "code",
   "execution_count": 20,
   "metadata": {},
   "outputs": [],
   "source": [
    "\"\"\"\n",
    "Data Management\n",
    "\"\"\"\n",
    "def remove_chairs(except_chair):\n",
    "    rooms = deepcopy(rooms_init)\n",
    "    for pair in list_pos_chairs:\n",
    "        if pair != except_chair:\n",
    "            i, j = pair\n",
    "            rooms[i][j] = ' '\n",
    "    return rooms"
   ]
  },
  {
   "cell_type": "code",
   "execution_count": null,
   "metadata": {},
   "outputs": [],
   "source": [
    "\n",
    "        j -= 1\n",
    "    # Initialize as a simple letter\n",
    "    room_of_chair = row_str[j]\n",
    "    j_left, j_right = j-1, j+1\n",
    "    while (row_str[j_left] != '(') or (row_str[j_right] != ')'):\n",
    "        if row_str[j_left] != '(':\n",
    "            room_of_chair = row_str[j_left] + room_of_chair\n",
    "            j_left -= 1\n",
    "        if row_str[j_right] != ')':\n",
    "            room_of_chair = room_of_chair + row_str[j_right] \n",
    "            j_right += 1\n",
    "    return room_of_chair"
   ]
  },
  {
   "cell_type": "code",
   "execution_count": 22,
   "metadata": {},
   "outputs": [],
   "source": [
    "\"\"\"\n",
    "Horizontal check\n",
    "\"\"\"\n",
    "\n",
    "def is_in_room_same_row(i, j):\n",
    "    chair = rooms[i][j]\n",
    "    row_no_space = list(filter(lambda e: e != ' ', rooms[i]))\n",
    "    return row_no_space[row_no_space.index(chair)+1] == '(' or row_no_space[row_no_space.index(chair)-1] == ')'\n",
    "\n",
    "\n",
    "def find_room_on_same_row(i, j):\n",
    "    chair = rooms[i][j]\n",
    "    row = list(filter(lambda e: e != ' ', rooms[i]))\n",
    "    j = row.index(chair)\n",
    "    if row[j+1]  == '(':\n",
    "        str_to_inspect = ''.join(row[j+1:])\n",
    "        return re.split('\\(|\\)', str_to_inspect)[1]\n",
    "    elif row[j-1] == ')':\n",
    "        str_to_inspect = ''.join(row[:j-1])\n",
    "        return re.split('\\(|\\)', str_to_inspect)[-1]\n",
    "\n",
    "def change_pos(i, j, new_i, new_j):\n",
    "    rooms[i][j], rooms[new_i][new_j] = rooms[new_i][new_j], rooms[i][j]\n",
    "    i, j = new_i, new_j\n",
    "    return i, j\n",
    "\n",
    "\n"
   ]
  },
  {
   "cell_type": "code",
   "execution_count": 28,
   "metadata": {
    "tags": []
   },
   "outputs": [
    {
     "output_type": "stream",
     "name": "stdout",
     "text": "1\n3 10\nleft\nFalse\n3 9\nleft\nFalse\n3 8\nleft\nFalse\n3 7\nleft\nFalse\n3 6\nleft\nFalse\n3 5\nleft\nFalse\n3 4\nleft\nFalse\n3 3\nleft\nFalse\n3 2\nleft\nFalse\n3 1\nleft\nFalse\n3 11\nright\nTrue\nok\n2\n3 41\nleft\nFalse\n3 40\nleft\nFalse\n3 39\nleft\nFalse\n3 38\nleft\nFalse\n3 37\nleft\nFalse\n3 36\nleft\nFalse\n3 35\nleft\nFalse\n3 34\nleft\nFalse\n3 33\nleft\nFalse\n3 32\nleft\nFalse\n3 31\nleft\nFalse\n3 30\nleft\nFalse\n3 29\nleft\nFalse\n3 28\nleft\nFalse\n3 27\nleft\nFalse\n3 26\nleft\nFalse\n3 25\nleft\nFalse\n3 24\nleft\nFalse\n3 23\nleft\nFalse\n3 22\nleft\nFalse\n3 21\nleft\nFalse\n3 20\nleft\nFalse\n3 19\nleft\nFalse\n3 18\nleft\nFalse\n3 17\nleft\nFalse\n3 16\nleft\nFalse\n3 15\nleft\nFalse\n3 14\nleft\nFalse\n3 13\nleft\nFalse\n3 42\nright\nFalse\n3 43\nright\nFalse\n3 44\nright\nFalse\n3 45\nright\nFalse\n3 46\nright\nFalse\n3 47\nright\nFalse\n3 48\nright\nTrue\nok\n3\n4 10\nleft\nFalse\n4 9\nleft\nFalse\n4 8\nleft\nFalse\n4 7\nleft\nFalse\n4 6\nleft\nFalse\n4 5\nleft\nFalse\n4 4\nleft\nFalse\n4 3\nleft\nFalse\n4 2\nleft\nFalse\n4 1\nleft\nFalse\n4 11\nright\nTrue\nok\n4\n5 10\nleft\nFalse\n5 9\nleft\nFalse\n5 8\nleft\nFalse\n5 7\nleft\nFalse\n5 6\nleft\nFalse\n5 5\nleft\nFalse\n5 4\nleft\nFalse\n5 3\nleft\nFalse\n5 2\nleft\nFalse\n5 1\nleft\nFalse\n5 11\nright\nTrue\nok\n5\n7 17\nleft\nFalse\n7 16\nleft\nFalse\n7 15\nleft\nFalse\n7 14\nleft\nFalse\n7 13\nleft\nFalse\n7 18\nright\nFalse\n7 19\nright\nFalse\n7 20\nright\nFalse\n7 21\nright\nFalse\n7 22\nright\nFalse\n7 23\nright\nFalse\n7 24\nright\nFalse\n7 25\nright\nFalse\n7 26\nright\nFalse\n7 27\nright\nFalse\n7 28\nright\nFalse\n7 29\nright\nFalse\n7 30\nright\nFalse\n7 31\nright\nFalse\n7 32\nright\nFalse\n7 33\nright\nFalse\n7 34\nright\nFalse\n7 35\nright\nFalse\n7 36\nright\nFalse\n7 37\nright\nFalse\n7 38\nright\nFalse\n7 39\nright\nFalse\n7 40\nright\nFalse\n7 41\nright\nFalse\n7 42\nright\nFalse\n7 43\nright\nFalse\n7 44\nright\nFalse\n7 45\nright\nFalse\n7 46\nright\nFalse\n7 47\nright\nFalse\n7 48\nright\nTrue\nok\n7\n13 44\nleft\nFalse\n13 43\nleft\nFalse\n13 42\nleft\nFalse\n13 41\nleft\nFalse\n13 40\nleft\nFalse\n13 39\nleft\nFalse\n13 38\nleft\nFalse\n13 37\nleft\nFalse\n13 36\nleft\nFalse\n13 35\nleft\nFalse\n13 34\nleft\nFalse\n13 33\nleft\nFalse\n13 32\nleft\nFalse\n13 31\nleft\nFalse\n13 30\nleft\nFalse\n13 29\nleft\nFalse\n13 28\nleft\nFalse\n13 45\nright\nFalse\n13 46\nright\nFalse\n13 47\nright\nFalse\n13 48\nright\nTrue\nok\n8\n13 46\nleft\nFalse\n13 45\nleft\nFalse\n13 44\nleft\nFalse\n13 43\nleft\nFalse\n13 42\nleft\nFalse\n13 41\nleft\nFalse\n13 40\nleft\nFalse\n13 39\nleft\nFalse\n13 38\nleft\nFalse\n13 37\nleft\nFalse\n13 36\nleft\nFalse\n13 35\nleft\nFalse\n13 34\nleft\nFalse\n13 33\nleft\nFalse\n13 32\nleft\nFalse\n13 31\nleft\nFalse\n13 30\nleft\nFalse\n13 29\nleft\nFalse\n13 28\nleft\nFalse\n13 47\nright\nFalse\n13 48\nright\nTrue\nok\n9\n18 41\nleft\nFalse\n18 40\nleft\nFalse\n18 39\nleft\nFalse\n18 38\nleft\nFalse\n18 37\nleft\nFalse\n18 36\nleft\nFalse\n18 35\nleft\nFalse\n18 34\nleft\nFalse\n18 33\nleft\nFalse\n18 32\nleft\nFalse\n18 31\nleft\nFalse\n18 30\nleft\nFalse\n18 29\nleft\nFalse\n18 28\nleft\nFalse\n18 42\nright\nFalse\n18 43\nright\nFalse\n18 44\nright\nFalse\n18 45\nright\nFalse\n18 46\nright\nFalse\n18 47\nright\nFalse\n18 48\nright\nTrue\nok\n10\n19 4\nleft\nFalse\n19 3\nleft\nFalse\n19 2\nleft\nFalse\n19 1\nleft\nFalse\n19 5\nright\nFalse\n19 6\nright\nFalse\n19 7\nright\nFalse\n19 8\nright\nFalse\n19 9\nright\nFalse\n19 10\nright\nFalse\n19 11\nright\nFalse\n19 12\nright\nFalse\n19 13\nright\nFalse\n19 14\nright\nTrue\nok\n11\n27 34\nleft\nFalse\n27 33\nleft\nFalse\n27 32\nleft\nFalse\n27 31\nleft\nFalse\n27 30\nleft\nFalse\n27 29\nleft\nFalse\n27 28\nleft\nFalse\n27 35\nright\nFalse\n27 36\nright\nFalse\n27 37\nright\nFalse\n27 38\nright\nFalse\n27 39\nright\nFalse\n27 40\nright\nFalse\n27 41\nright\nFalse\n27 42\nright\nFalse\n27 43\nright\nFalse\n27 44\nright\nFalse\n27 45\nright\nFalse\n27 46\nright\nFalse\n27 47\nright\nFalse\n27 48\nright\nTrue\nok\n12\n27 38\nleft\nFalse\n27 37\nleft\nFalse\n27 36\nleft\nFalse\n27 35\nleft\nFalse\n27 34\nleft\nFalse\n27 33\nleft\nFalse\n27 32\nleft\nFalse\n27 31\nleft\nFalse\n27 30\nleft\nFalse\n27 29\nleft\nFalse\n27 28\nleft\nFalse\n27 39\nright\nFalse\n27 40\nright\nFalse\n27 41\nright\nFalse\n27 42\nright\nFalse\n27 43\nright\nFalse\n27 44\nright\nFalse\n27 45\nright\nFalse\n27 46\nright\nFalse\n27 47\nright\nFalse\n27 48\nright\nTrue\nok\n13\n28 34\nleft\nFalse\n28 33\nleft\nFalse\n28 32\nleft\nFalse\n28 31\nleft\nFalse\n28 30\nleft\nFalse\n28 29\nleft\nFalse\n28 28\nleft\nFalse\n28 35\nright\nFalse\n28 36\nright\nFalse\n28 37\nright\nFalse\n28 38\nright\nFalse\n28 39\nright\nFalse\n28 40\nright\nFalse\n28 41\nright\nFalse\n28 42\nright\nFalse\n28 43\nright\nFalse\n28 44\nright\nFalse\n28 45\nright\nFalse\n28 46\nright\nFalse\n28 47\nright\nFalse\n28 48\nright\nTrue\nok\n14\n28 38\nleft\nFalse\n28 37\nleft\nFalse\n28 36\nleft\nFalse\n28 35\nleft\nFalse\n28 34\nleft\nFalse\n28 33\nleft\nFalse\n28 32\nleft\nFalse\n28 31\nleft\nFalse\n28 30\nleft\nFalse\n28 29\nleft\nFalse\n28 28\nleft\nFalse\n28 39\nright\nFalse\n28 40\nright\nFalse\n28 41\nright\nFalse\n28 42\nright\nFalse\n28 43\nright\nFalse\n28 44\nright\nFalse\n28 45\nright\nFalse\n28 46\nright\nFalse\n28 47\nright\nFalse\n28 48\nright\nTrue\nok\n15\n29 8\nleft\nFalse\n29 7\nleft\nFalse\n29 6\nleft\nFalse\n29 5\nleft\nFalse\n29 4\nleft\nFalse\n29 3\nleft\nFalse\n29 2\nleft\nFalse\n29 1\nleft\nFalse\n29 9\nright\nFalse\n29 10\nright\nFalse\n29 11\nright\nFalse\n29 12\nright\nFalse\n29 13\nright\nFalse\n29 14\nright\nTrue\nok\n16\n33 38\nleft\nFalse\n33 37\nleft\nFalse\n33 36\nleft\nFalse\n33 35\nleft\nFalse\n33 34\nleft\nFalse\n33 33\nleft\nFalse\n33 32\nleft\nFalse\n33 31\nleft\nFalse\n33 30\nleft\nFalse\n33 29\nleft\nFalse\n33 28\nleft\nFalse\n33 27\nleft\nFalse\n33 26\nleft\nFalse\n33 25\nleft\nFalse\n33 24\nleft\nFalse\n33 23\nleft\nFalse\n33 22\nleft\nFalse\n33 21\nleft\nFalse\n33 20\nleft\nFalse\n33 19\nleft\nFalse\n33 18\nleft\nFalse\n33 17\nleft\nFalse\n33 16\nleft\nFalse\n33 15\nleft\nFalse\n33 14\nleft\nFalse\n33 13\nleft\nFalse\n33 12\nleft\nFalse\n33 39\nright\nFalse\n33 40\nright\nFalse\n33 41\nright\nFalse\n33 42\nright\nFalse\n33 43\nright\nFalse\n33 44\nright\nFalse\n33 45\nright\nFalse\n33 46\nright\nFalse\n33 47\nright\nFalse\n33 48\nright\nTrue\nok\n17\n33 43\nleft\nFalse\n33 42\nleft\nFalse\n33 41\nleft\nFalse\n33 40\nleft\nFalse\n33 39\nleft\nFalse\n33 38\nleft\nFalse\n33 37\nleft\nFalse\n33 36\nleft\nFalse\n33 35\nleft\nFalse\n33 34\nleft\nFalse\n33 33\nleft\nFalse\n33 32\nleft\nFalse\n33 31\nleft\nFalse\n33 30\nleft\nFalse\n33 29\nleft\nFalse\n33 28\nleft\nFalse\n33 27\nleft\nFalse\n33 26\nleft\nFalse\n33 25\nleft\nFalse\n33 24\nleft\nFalse\n33 23\nleft\nFalse\n33 22\nleft\nFalse\n33 21\nleft\nFalse\n33 20\nleft\nFalse\n33 19\nleft\nFalse\n33 18\nleft\nFalse\n33 17\nleft\nFalse\n33 16\nleft\nFalse\n33 15\nleft\nFalse\n33 14\nleft\nFalse\n33 13\nleft\nFalse\n33 12\nleft\nFalse\n33 44\nright\nFalse\n33 45\nright\nFalse\n33 46\nright\nFalse\n33 47\nright\nFalse\n33 48\nright\nTrue\nok\n18\n33 47\nleft\nFalse\n33 46\nleft\nFalse\n33 45\nleft\nFalse\n33 44\nleft\nFalse\n33 43\nleft\nFalse\n33 42\nleft\nFalse\n33 41\nleft\nFalse\n33 40\nleft\nFalse\n33 39\nleft\nFalse\n33 38\nleft\nFalse\n33 37\nleft\nFalse\n33 36\nleft\nFalse\n33 35\nleft\nFalse\n33 34\nleft\nFalse\n33 33\nleft\nFalse\n33 32\nleft\nFalse\n33 31\nleft\nFalse\n33 30\nleft\nFalse\n33 29\nleft\nFalse\n33 28\nleft\nFalse\n33 27\nleft\nFalse\n33 26\nleft\nFalse\n33 25\nleft\nFalse\n33 24\nleft\nFalse\n33 23\nleft\nFalse\n33 22\nleft\nFalse\n33 21\nleft\nFalse\n33 20\nleft\nFalse\n33 19\nleft\nFalse\n33 18\nleft\nFalse\n33 17\nleft\nFalse\n33 16\nleft\nFalse\n33 15\nleft\nFalse\n33 14\nleft\nFalse\n33 13\nleft\nFalse\n33 12\nleft\nFalse\n33 48\nright\nTrue\nok\n19\n36 2\nleft\nFalse\n36 1\nleft\nFalse\n36 3\nright\nFalse\n36 4\nright\nFalse\n36 5\nright\nFalse\n36 6\nright\nFalse\n36 7\nright\nFalse\n36 8\nright\nFalse\n36 9\nright\nFalse\n36 10\nright\nFalse\n36 11\nright\nFalse\n36 12\nright\nFalse\n36 13\nright\nFalse\n36 14\nright\nFalse\n36 15\nright\nFalse\n36 16\nright\nFalse\n36 17\nright\nFalse\n36 18\nright\nFalse\n36 19\nright\nFalse\n36 20\nright\nFalse\n36 21\nright\nFalse\n36 22\nright\nFalse\n36 23\nright\nFalse\n36 24\nright\nFalse\n36 25\nright\nFalse\n36 26\nright\nFalse\n36 27\nright\nFalse\n36 28\nright\nFalse\n36 29\nright\nFalse\n36 30\nright\nFalse\n36 31\nright\nFalse\n36 32\nright\nFalse\n36 33\nright\nFalse\n36 34\nright\nFalse\n36 35\nright\nFalse\n36 36\nright\nFalse\n36 37\nright\nFalse\n36 38\nright\nFalse\n36 39\nright\nFalse\n36 40\nright\nFalse\n36 41\nright\nFalse\n36 42\nright\nFalse\n36 43\nright\nFalse\n36 44\nright\nFalse\n36 45\nright\nFalse\n36 46\nright\nFalse\n36 47\nright\nFalse\n36 48\nright\nTrue\nok\n20\n36 38\nleft\nFalse\n36 37\nleft\nFalse\n36 36\nleft\nFalse\n36 35\nleft\nFalse\n36 34\nleft\nFalse\n36 33\nleft\nFalse\n36 32\nleft\nFalse\n36 31\nleft\nFalse\n36 30\nleft\nFalse\n36 29\nleft\nFalse\n36 28\nleft\nFalse\n36 27\nleft\nFalse\n36 26\nleft\nFalse\n36 25\nleft\nFalse\n36 24\nleft\nFalse\n36 23\nleft\nFalse\n36 22\nleft\nFalse\n36 21\nleft\nFalse\n36 20\nleft\nFalse\n36 19\nleft\nFalse\n36 18\nleft\nFalse\n36 17\nleft\nFalse\n36 16\nleft\nFalse\n36 15\nleft\nFalse\n36 14\nleft\nFalse\n36 13\nleft\nFalse\n36 12\nleft\nFalse\n36 11\nleft\nFalse\n36 10\nleft\nFalse\n36 9\nleft\nFalse\n36 8\nleft\nFalse\n36 7\nleft\nFalse\n36 6\nleft\nFalse\n36 5\nleft\nFalse\n36 4\nleft\nFalse\n36 3\nleft\nFalse\n36 2\nleft\nFalse\n36 1\nleft\nFalse\n36 39\nright\nFalse\n36 40\nright\nFalse\n36 41\nright\nFalse\n36 42\nright\nFalse\n36 43\nright\nFalse\n36 44\nright\nFalse\n36 45\nright\nFalse\n36 46\nright\nFalse\n36 47\nright\nFalse\n36 48\nright\nTrue\nok\n21\n36 43\nleft\nFalse\n36 42\nleft\nFalse\n36 41\nleft\nFalse\n36 40\nleft\nFalse\n36 39\nleft\nFalse\n36 38\nleft\nFalse\n36 37\nleft\nFalse\n36 36\nleft\nFalse\n36 35\nleft\nFalse\n36 34\nleft\nFalse\n36 33\nleft\nFalse\n36 32\nleft\nFalse\n36 31\nleft\nFalse\n36 30\nleft\nFalse\n36 29\nleft\nFalse\n36 28\nleft\nFalse\n36 27\nleft\nFalse\n36 26\nleft\nFalse\n36 25\nleft\nFalse\n36 24\nleft\nFalse\n36 23\nleft\nFalse\n36 22\nleft\nFalse\n36 21\nleft\nFalse\n36 20\nleft\nFalse\n36 19\nleft\nFalse\n36 18\nleft\nFalse\n36 17\nleft\nFalse\n36 16\nleft\nFalse\n36 15\nleft\nFalse\n36 14\nleft\nFalse\n36 13\nleft\nFalse\n36 12\nleft\nFalse\n36 11\nleft\nFalse\n36 10\nleft\nFalse\n36 9\nleft\nFalse\n36 8\nleft\nFalse\n36 7\nleft\nFalse\n36 6\nleft\nFalse\n36 5\nleft\nFalse\n36 4\nleft\nFalse\n36 3\nleft\nFalse\n36 2\nleft\nFalse\n36 1\nleft\nFalse\n36 44\nright\nFalse\n36 45\nright\nFalse\n36 46\nright\nFalse\n36 47\nright\nFalse\n36 48\nright\nTrue\nok\n22\n36 47\nleft\nFalse\n36 46\nleft\nFalse\n36 45\nleft\nFalse\n36 44\nleft\nFalse\n36 43\nleft\nFalse\n36 42\nleft\nFalse\n36 41\nleft\nFalse\n36 40\nleft\nFalse\n36 39\nleft\nFalse\n36 38\nleft\nFalse\n36 37\nleft\nFalse\n36 36\nleft\nFalse\n36 35\nleft\nFalse\n36 34\nleft\nFalse\n36 33\nleft\nFalse\n36 32\nleft\nFalse\n36 31\nleft\nFalse\n36 30\nleft\nFalse\n36 29\nleft\nFalse\n36 28\nleft\nFalse\n36 27\nleft\nFalse\n36 26\nleft\nFalse\n36 25\nleft\nFalse\n36 24\nleft\nFalse\n36 23\nleft\nFalse\n36 22\nleft\nFalse\n36 21\nleft\nFalse\n36 20\nleft\nFalse\n36 19\nleft\nFalse\n36 18\nleft\nFalse\n36 17\nleft\nFalse\n36 16\nleft\nFalse\n36 15\nleft\nFalse\n36 14\nleft\nFalse\n36 13\nleft\nFalse\n36 12\nleft\nFalse\n36 11\nleft\nFalse\n36 10\nleft\nFalse\n36 9\nleft\nFalse\n36 8\nleft\nFalse\n36 7\nleft\nFalse\n36 6\nleft\nFalse\n36 5\nleft\nFalse\n36 4\nleft\nFalse\n36 3\nleft\nFalse\n36 2\nleft\nFalse\n36 1\nleft\nFalse\n36 48\nright\nTrue\nok\n23\n38 2\nleft\nFalse\n38 1\nleft\nFalse\n38 3\nright\nFalse\n38 4\nright\nFalse\n38 5\nright\nFalse\n38 6\nright\nFalse\n38 7\nright\nFalse\n38 8\nright\nFalse\n38 9\nright\nFalse\n38 10\nright\nFalse\n38 11\nright\nFalse\n38 12\nright\nFalse\n38 13\nright\nFalse\n38 14\nright\nFalse\n38 15\nright\nFalse\n38 16\nright\nFalse\n38 17\nright\nFalse\n38 18\nright\nFalse\n38 19\nright\nFalse\n38 20\nright\nFalse\n38 21\nright\nFalse\n38 22\nright\nFalse\n38 23\nright\nFalse\n38 24\nright\nFalse\n38 25\nright\nFalse\n38 26\nright\nFalse\n38 27\nright\nFalse\n38 28\nright\nFalse\n38 29\nright\nFalse\n38 30\nright\nFalse\n38 31\nright\nFalse\n38 32\nright\nFalse\n38 33\nright\nFalse\n38 34\nright\nFalse\n38 35\nright\nFalse\n38 36\nright\nFalse\n38 37\nright\nFalse\n38 38\nright\nFalse\n38 39\nright\nFalse\n38 40\nright\nFalse\n38 41\nright\nFalse\n38 42\nright\nFalse\n38 43\nright\nFalse\n38 44\nright\nFalse\n38 45\nright\nFalse\n38 46\nright\nFalse\n38 47\nright\nFalse\n38 48\nright\nTrue\nok\n24\n45 46\nleft\nFalse\n45 45\nleft\nFalse\n45 44\nleft\nFalse\n45 43\nleft\nFalse\n45 42\nleft\nFalse\n45 41\nleft\nFalse\n45 40\nleft\nFalse\n45 39\nleft\nFalse\n45 38\nleft\nFalse\n45 37\nleft\nFalse\n45 36\nleft\nFalse\n45 35\nleft\nFalse\n45 34\nleft\nFalse\n45 33\nleft\nFalse\n45 32\nleft\nFalse\n45 31\nleft\nFalse\n45 30\nleft\nFalse\n45 29\nleft\nFalse\n45 28\nleft\nFalse\n45 47\nright\nFalse\n45 48\nright\nTrue\nok\n25\n47 45\nleft\nFalse\n47 44\nleft\nFalse\n47 43\nleft\nFalse\n47 42\nleft\nFalse\n47 41\nleft\nFalse\n47 40\nleft\nFalse\n47 39\nleft\nFalse\n47 38\nleft\nFalse\n47 37\nleft\nFalse\n47 36\nleft\nFalse\n47 35\nleft\nFalse\n47 34\nleft\nFalse\n47 33\nleft\nFalse\n47 32\nleft\nFalse\n47 31\nleft\nFalse\n47 30\nleft\nFalse\n47 29\nleft\nFalse\n47 28\nleft\nFalse\n47 46\nright\nFalse\n47 47\nright\nFalse\n47 48\nright\nTrue\nok\ndefaultdict(<class 'list'>, {'not found': ['P', 'S', 'P', 'P', 'W', 'W', 'W', 'P', 'C', 'W', 'W', 'W', 'W', 'P', 'W', 'W', 'W', 'S', 'W', 'W', 'W', 'S', 'P', 'P']})\n"
    },
    {
     "output_type": "execute_result",
     "data": {
      "text/plain": "['+-----------+------------------------------------+',\n '|           |                                    |',\n '| (closet)  |                                    |',\n '|           |                                    |',\n '|           |         (sleeping room)            |',\n '|           |                                    |',\n '|           |                                    |',\n '+-----------+                                    |',\n '|           |                                    |',\n '|           |                                    |',\n '|           |                                    |',\n '|           +--------------+---------------------+',\n '|                          |                     |',\n '|                          |                     |',\n '|                          |    (office)         |',\n '|                          |                     |',\n '+--------------+           |                     |',\n '|              |           |                     |',\n '| (toilet)     |           |                     |',\n '|              |           |                     |',\n '|              |           |                     |',\n '+--------------+           +---------------------+',\n '|              |           |                     |',\n '|              |           |                     |',\n '|              |           |                     |',\n '| (bathroom)   |           |      (kitchen)      |',\n '|              |           |                     |',\n '|              |           |                     |',\n '|              |           |                     |',\n '|              +           |                     |',\n '|             /            +---------------------+',\n '|            /                                   |',\n '|           /                                    |',\n '|          /                                     |',\n '+---------+                                      |',\n '|                                                |',\n '|                                                |',\n '|                (living room)                   |',\n '|                                                |',\n '|                                                |',\n '|                                                |',\n '|                                                |',\n '|                                                |',\n '+--------------------------+---------------------+',\n '                           |                     |',\n '                           |                     |',\n '                           |  (balcony)          |',\n '                           |                    P|',\n '                           |                     |',\n '                           +---------------------+']"
     },
     "metadata": {},
     "execution_count": 28
    }
   ],
   "source": [
    "rooms_init = [list([j for j in i.split('\\n')][0]) for i in rooms_string.splitlines()]\n",
    "dict_rooms_chairs = defaultdict(list)\n",
    "\n",
    "\n",
    "\n",
    "def explore_horizontal_moves(i_start: int, j_start: int):\n",
    "    i, j = i_start, j_start\n",
    "\n",
    "    # First step: one vertical check at the starting point\n",
    "    if is_in_room_same_column(i, j):\n",
    "        return find_room_on_same_column(i, j)\n",
    "\n",
    "    # Second step: Move horizontally \n",
    "\n",
    "    # Initialize moving up\n",
    "    direction = 'up'\n",
    "\n",
    "    while True:\n",
    "        # If the room name is not found in the row, we move vertically\n",
    "        if not is_in_room_same_row(i, j):   \n",
    "\n",
    "            # If we reached the top of the room ...\n",
    "            if direction == 'up' and rooms[i-1][j] in sep_chars:\n",
    "                # ...we set the direction to down for the next step...\n",
    "                direction = 'down' \n",
    "                # ...and get back to the initial position\n",
    "                i, j = change_pos(i=i, j=j, new_i=i_start, new_j=j)\n",
    "            \n",
    "            # If we reached the bottom of the room ...\n",
    "            if direction == 'down' and rooms[i+1][j] in sep_chars:\n",
    "                # The research has been unsuccesful\n",
    "                return 'not found'\n",
    "\n",
    "            # We move up\n",
    "            if direction == 'up':\n",
    "                i, j = change_pos(i=i, j=j, new_i=i-1, new_j=j)\n",
    "\n",
    "            # We move down   \n",
    "            elif direction == 'down':\n",
    "                i, j = change_pos(i=i, j=j, new_i=i+1, new_j=j)\n",
    "\n",
    "        # We found the room name\n",
    "        else:\n",
    "            return find_room_on_same_row(i,j)\n",
    "\n",
    "\n",
    "\n",
    "def explore_vertical_moves(i_start: int, j_start: int):\n",
    "    i, j = i_start, j_start\n",
    "\n",
    "    # First step: one horizontal check at the starting point\n",
    "    if is_in_room_same_row(i, j):\n",
    "        return find_room_on_same_row(i, j)\n",
    "\n",
    "    # Second step: Move horizontally \n",
    "\n",
    "    # Initialize moving up\n",
    "    direction = 'left'\n",
    "    count = 0\n",
    "    while count < 50:\n",
    "        print(i, j)\n",
    "        print(direction)\n",
    "        count += 1\n",
    "        # If the room name is not found in the column, we move horizontally\n",
    "        if not is_in_room_same_column(i, j):   \n",
    "\n",
    "            # If we reached the left side of the room ...\n",
    "            if direction == 'left' and rooms[i][j-1] in sep_chars:\n",
    "                # ...we set the direction to down for the next step...\n",
    "                direction = 'right' \n",
    "                # ...and get back to the initial position\n",
    "                i, j = change_pos(i=i, j=j, new_i=i, new_j=j_start)\n",
    "            \n",
    "            print(rooms[i][j+1] in sep_chars)\n",
    "            # If we reached the right siede of the room ...\n",
    "            if direction == 'right' and rooms[i][j+1] in sep_chars:\n",
    "                print('ok')\n",
    "                # The research has been unsuccesful\n",
    "                return 'not found'\n",
    "\n",
    "            # We move left\n",
    "            if direction == 'left':\n",
    "                i, j = change_pos(i=i, j=j, new_i=i, new_j=j-1)\n",
    "\n",
    "            # We move right   \n",
    "            elif direction == 'right':\n",
    "                i, j = change_pos(i=i, j=j, new_i=i, new_j=j+1)\n",
    "\n",
    "        # We found the room name\n",
    "        else:\n",
    "            return find_room_on_same_column(i,j)\n",
    "\n",
    "\n",
    "\n",
    "\n",
    "\n",
    "\n",
    "for k, coordinates in enumerate(list_pos_chairs):\n",
    "    if k+1 != 6:\n",
    "        print(k+1)\n",
    "        i, j = coordinates\n",
    "        chair = dict_pos_chairs[coordinates]\n",
    "        rooms = remove_chairs(except_chair=coordinates)\n",
    "        room_of_chair = explore_vertical_moves(i, j)\n",
    "        # Save it\n",
    "        dict_rooms_chairs[room_of_chair].append(chair)\n",
    "\n",
    "\n",
    "\n",
    "print(dict_rooms_chairs)\n",
    "# print(dict_rooms_chairs)\n",
    "print_of(rooms)"
   ]
  },
  {
   "cell_type": "code",
   "execution_count": null,
   "metadata": {},
   "outputs": [],
   "source": []
  },
  {
   "cell_type": "code",
   "execution_count": null,
   "metadata": {},
   "outputs": [],
   "source": []
  },
  {
   "cell_type": "code",
   "execution_count": null,
   "metadata": {},
   "outputs": [],
   "source": []
  },
  {
   "cell_type": "code",
   "execution_count": null,
   "metadata": {},
   "outputs": [],
   "source": []
  },
  {
   "cell_type": "code",
   "execution_count": null,
   "metadata": {},
   "outputs": [],
   "source": []
  },
  {
   "cell_type": "code",
   "execution_count": null,
   "metadata": {},
   "outputs": [],
   "source": []
  },
  {
   "cell_type": "code",
   "execution_count": null,
   "metadata": {},
   "outputs": [],
   "source": []
  },
  {
   "cell_type": "code",
   "execution_count": null,
   "metadata": {},
   "outputs": [],
   "source": []
  },
  {
   "cell_type": "code",
   "execution_count": null,
   "metadata": {},
   "outputs": [],
   "source": []
  },
  {
   "cell_type": "markdown",
   "metadata": {},
   "source": [
    "#### To check later\n",
    "- In row exploration, case when letter under )"
   ]
  },
  {
   "cell_type": "markdown",
   "metadata": {},
   "source": [
    "##### Reasons to temporarily remove chairs\n",
    "\n",
    "- is room on the same column"
   ]
  },
  {
   "cell_type": "markdown",
   "metadata": {},
   "source": [
    "### Remaining steps\n",
    "\n",
    "1. Long way to the room name"
   ]
  },
  {
   "cell_type": "code",
   "execution_count": null,
   "metadata": {},
   "outputs": [],
   "source": []
  }
 ],
 "metadata": {
  "language_info": {
   "codemirror_mode": {
    "name": "ipython",
    "version": 3
   },
   "file_extension": ".py",
   "mimetype": "text/x-python",
   "name": "python",
   "nbconvert_exporter": "python",
   "pygments_lexer": "ipython3",
   "version": 3
  },
  "orig_nbformat": 2,
  "kernelspec": {
   "name": "python_defaultSpec_1594857628693",
   "display_name": "Python 3.8.3 64-bit ('chair-detection': conda)"
  }
 },
 "nbformat": 4,
 "nbformat_minor": 2
}