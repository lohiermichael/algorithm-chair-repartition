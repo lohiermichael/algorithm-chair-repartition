{
 "cells": [
  {
   "cell_type": "markdown",
   "metadata": {},
   "source": [
    "# Explanatory Data Analysis (EDA)\n",
    "\n",
    "In this notebook, I am going to analyze the input data `room.txt` and guide you through my thinking process to find the solution to this problem."
   ]
  },
  {
   "cell_type": "code",
   "execution_count": 17,
   "metadata": {},
   "outputs": [],
   "source": [
    " from collections import Counter, defaultdict\n",
    " import re\n",
    " from copy import deepcopy"
   ]
  },
  {
   "cell_type": "markdown",
   "metadata": {},
   "source": [
    "## Read and transform the input data\n"
   ]
  },
  {
   "cell_type": "markdown",
   "metadata": {},
   "source": [
    "From the `task_en.txt` file, we can already extract information about the chairs:\n",
    "\n",
    "```\n",
    "The different types of chairs are as follows:\n",
    "W: wooden chair\n",
    "P: plastic chair\n",
    "S: sofa chair\n",
    "C: china chair\n",
    "```\n",
    "\n",
    "As we only need the capital letters in the following, we are going to save them in a `set` called `chairs`"
   ]
  },
  {
   "cell_type": "code",
   "execution_count": 18,
   "metadata": {},
   "outputs": [],
   "source": [
    "chairs = {'W', 'P', 'S', 'C'}"
   ]
  },
  {
   "cell_type": "markdown",
   "metadata": {},
   "source": [
    "### Import the data as a string"
   ]
  },
  {
   "cell_type": "code",
   "execution_count": 19,
   "metadata": {},
   "outputs": [
    {
     "output_type": "execute_result",
     "data": {
      "text/plain": "Counter({'+': 24,\n         '-': 240,\n         '\\n': 49,\n         '|': 124,\n         ' ': 2005,\n         '(': 8,\n         'c': 4,\n         'l': 5,\n         'o': 10,\n         's': 2,\n         'e': 6,\n         't': 5,\n         ')': 8,\n         'P': 7,\n         'S': 3,\n         'p': 1,\n         'i': 6,\n         'n': 4,\n         'g': 2,\n         'r': 3,\n         'm': 3,\n         'W': 14,\n         'f': 2,\n         'C': 1,\n         'b': 2,\n         'a': 2,\n         'h': 2,\n         'k': 1,\n         '/': 4,\n         'v': 1,\n         'y': 1})"
     },
     "metadata": {},
     "execution_count": 19
    }
   ],
   "source": [
    "with open('rooms.txt', 'r') as f:\n",
    "    rooms_string = f.read()\n",
    "Counter(rooms_string)"
   ]
  },
  {
   "cell_type": "markdown",
   "metadata": {},
   "source": [
    "From the function counter, we can already get a whole lot of information about the data:\n",
    "- The `'-'`, `'|'` and `'/'` are the strings that delimit the areas of the rooms. The room being longer than large: <br>```number_of('-') < number_of('|')```\n",
    "\n",
    "- The number of `'+'` gives the number of cornxzers in the apartment\n",
    "\n",
    "- The number of `'('` or `')'` gives the number of rooms\n",
    "\n",
    "- The number of `'\\n'` + 1 gives the length of the apartment\n",
    "\n",
    "- **Most importantly:** gathering the capital letters keys and their counts already gives the relevant information for the first output line of the problem: **total**. As we need to find the chair repartition in each room as well, the problem is not yet solved, but we can definitively save the **total** result as a future check when the information of each room is gathered.\n",
    "\n",
    "### Observation\n",
    "\n",
    "According tho the `task_en.txt`, mistakes occured in the past when: *manually counting the various types of chairs*. This refers to the total number of chairs. \n",
    "\n",
    "I imagine a mistake being for example: forgetting a china chair when delivering all the chairs.\n",
    "\n",
    "Considering that:\n",
    "- gathering only the toltal number of each type of chairs can be quickly implemented\n",
    "- this implementation will solve most of the client's problems\n",
    "- solving the problem of finding the repartition of the chairs in each room looks much more complex\n",
    "\n",
    "If I were given this problem in the context of my job, I would explain the client, the technical implications of the result that he would like to get. And I would propose him to first experiment the quick-and-easy solution:\n",
    "- Use my program to know the total number of each type of chair\n",
    "- Use his existing maps to locate the chairs in the room"
   ]
  },
  {
   "cell_type": "code",
   "execution_count": 20,
   "metadata": {
    "tags": []
   },
   "outputs": [
    {
     "output_type": "stream",
     "name": "stdout",
     "text": "8\n"
    },
    {
     "output_type": "execute_result",
     "data": {
      "text/plain": "{'P': 7, 'S': 3, 'W': 14, 'C': 1}"
     },
     "metadata": {},
     "execution_count": 20
    }
   ],
   "source": [
    "n_rooms = Counter(rooms_string)['(']\n",
    "print(n_rooms)\n",
    "\n",
    "total = {chair: Counter(rooms_string)[chair] for chair in Counter(rooms_string) if chair in chairs}\n",
    "total"
   ]
  },
  {
   "cell_type": "markdown",
   "metadata": {},
   "source": [
    "As the input  represents a 2D-plan, I think the best way to locate things in the plan is to transform it into a 2D-array."
   ]
  },
  {
   "cell_type": "code",
   "execution_count": 21,
   "metadata": {},
   "outputs": [
    {
     "output_type": "execute_result",
     "data": {
      "text/plain": "['+-----------+------------------------------------+',\n '|           |                                    |',\n '| (closet)  |                                    |',\n '|         P |                            S       |',\n '|         P |         (sleeping room)            |',\n '|         P |                                    |',\n '|           |                                    |',\n '+-----------+    W                               |',\n '|           |                                    |',\n '|        W  |                                    |',\n '|           |                                    |',\n '|           +--------------+---------------------+',\n '|                          |                     |',\n '|                          |                W W  |',\n '|                          |    (office)         |',\n '|                          |                     |',\n '+--------------+           |                     |',\n '|              |           |                     |',\n '| (toilet)     |           |             P       |',\n '|   C          |           |                     |',\n '|              |           |                     |',\n '+--------------+           +---------------------+',\n '|              |           |                     |',\n '|              |           |                     |',\n '|              |           |                     |',\n '| (bathroom)   |           |      (kitchen)      |',\n '|              |           |                     |',\n '|              |           |      W   W          |',\n '|              |           |      W   W          |',\n '|       P      +           |                     |',\n '|             /            +---------------------+',\n '|            /                                   |',\n '|           /                                    |',\n '|          /                          W    W   W |',\n '+---------+                                      |',\n '|                                                |',\n '| S                                   W    W   W |',\n '|                (living room)                   |',\n '| S                                              |',\n '|                                                |',\n '|                                                |',\n '|                                                |',\n '|                                                |',\n '+--------------------------+---------------------+',\n '                           |                     |',\n '                           |                  P  |',\n '                           |  (balcony)          |',\n '                           |                 P   |',\n '                           |                     |',\n '                           +---------------------+']"
     },
     "metadata": {},
     "execution_count": 21
    }
   ],
   "source": [
    "rooms = [list([j for j in i.split('\\n')][0]) for i in rooms_string.splitlines()]\n",
    "\n",
    "def print_of(rooms):\n",
    "    return list(map(lambda L: ''.join(L), rooms))\n",
    "\n",
    "print_of(rooms)"
   ]
  },
  {
   "cell_type": "code",
   "execution_count": 22,
   "metadata": {},
   "outputs": [
    {
     "output_type": "execute_result",
     "data": {
      "text/plain": "{'+', '-', '/', '\\\\', '|'}"
     },
     "metadata": {},
     "execution_count": 22
    }
   ],
   "source": [
    "sep_chars = {'\\\\', '|', '/', '+', '-'}\n",
    "sep_chars"
   ]
  },
  {
   "cell_type": "code",
   "execution_count": 23,
   "metadata": {},
   "outputs": [],
   "source": [
    "no_room_chars = {'\\\\', '|', '/', '+', '-', ' '}"
   ]
  },
  {
   "cell_type": "markdown",
   "metadata": {},
   "source": [
    "## Move letters approach"
   ]
  },
  {
   "cell_type": "code",
   "execution_count": 24,
   "metadata": {
    "tags": []
   },
   "outputs": [
    {
     "output_type": "stream",
     "name": "stdout",
     "text": "{(3, 10): 'P', (3, 41): 'S', (4, 10): 'P', (5, 10): 'P', (7, 17): 'W', (9, 9): 'W', (13, 44): 'W', (13, 46): 'W', (18, 41): 'P', (19, 4): 'C', (27, 34): 'W', (27, 38): 'W', (28, 34): 'W', (28, 38): 'W', (29, 8): 'P', (33, 38): 'W', (33, 43): 'W', (33, 47): 'W', (36, 2): 'S', (36, 38): 'W', (36, 43): 'W', (36, 47): 'W', (38, 2): 'S', (45, 46): 'P', (47, 45): 'P'}\n"
    },
    {
     "output_type": "execute_result",
     "data": {
      "text/plain": "[(3, 10),\n (3, 41),\n (4, 10),\n (5, 10),\n (7, 17),\n (9, 9),\n (13, 44),\n (13, 46),\n (18, 41),\n (19, 4),\n (27, 34),\n (27, 38),\n (28, 34),\n (28, 38),\n (29, 8),\n (33, 38),\n (33, 43),\n (33, 47),\n (36, 2),\n (36, 38),\n (36, 43),\n (36, 47),\n (38, 2),\n (45, 46),\n (47, 45)]"
     },
     "metadata": {},
     "execution_count": 24
    }
   ],
   "source": [
    "dict_pos_chairs = {}\n",
    "for i, row in enumerate(rooms):\n",
    "    for j, element in enumerate(row):\n",
    "        if element in chairs:\n",
    "            dict_pos_chairs[(i, j)] = element\n",
    "            # room = search_room(i, j)\n",
    "            # rooms_chairs[room][element] += 1\n",
    "\n",
    "print(dict_pos_chairs)\n",
    "list_pos_chairs = list(dict_pos_chairs.keys())\n",
    "list_pos_chairs.sort(key=lambda x: (x[0],x[1]))\n",
    "list_pos_chairs"
   ]
  },
  {
   "cell_type": "code",
   "execution_count": 42,
   "metadata": {},
   "outputs": [],
   "source": [
    "\"\"\"\n",
    "Data Modification\n",
    "\"\"\"\n",
    "def remove_chairs(except_chair):\n",
    "    rooms = deepcopy(rooms_init)\n",
    "    for pair in list_pos_chairs:\n",
    "        if pair != except_chair:\n",
    "            i, j = pair\n",
    "            rooms[i][j] = ' '\n",
    "    return rooms\n",
    "\n",
    "def change_pos(i, j, new_i, new_j):\n",
    "    rooms[i][j], rooms[new_i][new_j] = rooms[new_i][new_j], rooms[i][j]\n",
    "    i, j = new_i, new_j\n",
    "    return i, j"
   ]
  },
  {
   "cell_type": "code",
   "execution_count": 43,
   "metadata": {},
   "outputs": [],
   "source": [
    "\"\"\"\n",
    "Vertical check\n",
    "\"\"\"\n",
    "\n",
    "def is_in_room_same_column(i, j):\n",
    "    chair = rooms[i][j]\n",
    "    col = [rooms[k][j] for k in range(len(rooms))]\n",
    "    col_no_space = list(filter(lambda e: e != ' ', col))\n",
    "    return col_no_space[col_no_space.index(chair)+1] not in sep_chars or col_no_space[col_no_space.index(chair)-1] not in sep_chars\n",
    "\n",
    "     \n",
    "\n",
    "def find_room_on_same_column(i, j):\n",
    "    chair = rooms[i][j]\n",
    "    col = [rooms[k][j] for k in range(len(rooms))]\n",
    "    i_up, i_down = i-1, i+1\n",
    "    # Find a character of the room\n",
    "    while (col[i_up] in no_room_chars) and (col[i_down] in no_room_chars):\n",
    "        if col[i_up] not in sep_chars:\n",
    "            i_up -= 1\n",
    "        if col[i_down] not in sep_chars:\n",
    "            i_down += 1\n",
    "    i_room = i_up if col[i_up] not in no_room_chars else i_down\n",
    "\n",
    "    # Build the string of the room name\n",
    "    row_str = ''.join(rooms[i_room])\n",
    "    # Be in the middle of the name\n",
    "    if rooms[i_room][j] == '(':\n",
    "        j += 1\n",
    "    if rooms[i_room][j] == ')':\n",
    "        j -= 1\n",
    "    # Initialize as a simple letter\n",
    "    room_of_chair = row_str[j]\n",
    "    j_left, j_right = j-1, j+1\n",
    "    while (row_str[j_left] != '(') or (row_str[j_right] != ')'):\n",
    "        if row_str[j_left] != '(':\n",
    "            room_of_chair = row_str[j_left] + room_of_chair\n",
    "            j_left -= 1\n",
    "        if row_str[j_right] != ')':\n",
    "            room_of_chair = room_of_chair + row_str[j_right] \n",
    "            j_right += 1\n",
    "    return room_of_chair"
   ]
  },
  {
   "cell_type": "code",
   "execution_count": 44,
   "metadata": {},
   "outputs": [],
   "source": [
    "\"\"\"\n",
    "Horizontal check\n",
    "\"\"\"\n",
    "\n",
    "def is_in_room_same_row(i, j):\n",
    "    chair = rooms[i][j]\n",
    "    row_no_space = list(filter(lambda e: e != ' ', rooms[i]))\n",
    "    return row_no_space[row_no_space.index(chair)+1] == '(' or row_no_space[row_no_space.index(chair)-1] == ')'\n",
    "\n",
    "\n",
    "def find_room_on_same_row(i, j):\n",
    "    chair = rooms[i][j]\n",
    "    row = list(filter(lambda e: e != ' ', rooms[i]))\n",
    "    j = row.index(chair)\n",
    "    if row[j+1]  == '(':\n",
    "        str_to_inspect = ''.join(row[j+1:])\n",
    "        return re.split('\\(|\\)', str_to_inspect)[1]\n",
    "    elif row[j-1] == ')':\n",
    "        str_to_inspect = ''.join(row[:j-1])\n",
    "        return re.split('\\(|\\)', str_to_inspect)[-1]\n",
    "\n",
    "\n",
    "\n",
    "\n"
   ]
  },
  {
   "cell_type": "code",
   "execution_count": 49,
   "metadata": {
    "tags": []
   },
   "outputs": [
    {
     "output_type": "stream",
     "name": "stdout",
     "text": "defaultdict(<class 'list'>, {'closet': ['P', 'P', 'P'], 'sleepingroom': ['S', 'W'], 'office': ['W', 'W', 'P'], 'toilet': ['C'], 'kitchen': ['W', 'W', 'W', 'W'], 'bathroom': ['P'], 'livingroom': ['W', 'W', 'W', 'S', 'W', 'W', 'W', 'S'], 'balcony': ['P', 'P']})\n"
    },
    {
     "output_type": "execute_result",
     "data": {
      "text/plain": "['+-----------+------------------------------------+',\n '|           |                                    |',\n '| (closet)  |                                    |',\n '|         P |                            S       |',\n '|         P |         (sleeping room)            |',\n '|         P |                                    |',\n '|           |                                    |',\n '+-----------+    W                               |',\n '|           |                                    |',\n '|        W  |                                    |',\n '|           |                                    |',\n '|           +--------------+---------------------+',\n '|                          |                     |',\n '|                          |                W W  |',\n '|                          |    (office)         |',\n '|                          |                     |',\n '+--------------+           |                     |',\n '|              |           |                     |',\n '| (toilet)     |           |             P       |',\n '|   C          |           |                     |',\n '|              |           |                     |',\n '+--------------+           +---------------------+',\n '|              |           |                     |',\n '|              |           |                     |',\n '|              |           |                     |',\n '| (bathroom)   |           |      (kitchen)      |',\n '|              |           |                     |',\n '|              |           |      W   W          |',\n '|              |           |      W   W          |',\n '|       P      +           |                     |',\n '|             /            +---------------------+',\n '|            /                                   |',\n '|           /                                    |',\n '|          /                          W    W   W |',\n '+---------+                                      |',\n '|                                                |',\n '| S                                   W    W   W |',\n '|                (living room)                   |',\n '| S                                              |',\n '|                                                |',\n '|                                                |',\n '|                                                |',\n '|                                                |',\n '+--------------------------+---------------------+',\n '                           |                     |',\n '                           |                  P  |',\n '                           |  (balcony)          |',\n '                           |                 P   |',\n '                           |                     |',\n '                           +---------------------+']"
     },
     "metadata": {},
     "execution_count": 49
    }
   ],
   "source": [
    "rooms_init = [list([j for j in i.split('\\n')][0]) for i in rooms_string.splitlines()]\n",
    "dict_rooms_chairs = defaultdict(list)\n",
    "\n",
    "\n",
    "\n",
    "def explore_horizontal_moves(i_start: int, j_start: int):\n",
    "    i, j = i_start, j_start\n",
    "\n",
    "    # First step: one vertical check at the starting point\n",
    "    if is_in_room_same_column(i, j):\n",
    "        return find_room_on_same_column(i, j)\n",
    "\n",
    "    # Second step: Move horizontally \n",
    "\n",
    "    # Initialize moving up\n",
    "    direction = 'up'\n",
    "\n",
    "    while True:\n",
    "        # If the room name is not found in the row, we move vertically\n",
    "        if not is_in_room_same_row(i, j):   \n",
    "\n",
    "            # If we reached the top of the room ...\n",
    "            if direction == 'up' and rooms[i-1][j] in sep_chars:\n",
    "                # ...we set the direction to down for the next step...\n",
    "                direction = 'down' \n",
    "                # ...and get back to the initial position\n",
    "                i, j = change_pos(i=i, j=j, new_i=i_start, new_j=j)\n",
    "            \n",
    "            # If we reached the bottom of the room ...\n",
    "            if direction == 'down' and rooms[i+1][j] in sep_chars:\n",
    "                # The research has been unsuccesful\n",
    "                return 'not found'\n",
    "\n",
    "            # We move up\n",
    "            if direction == 'up':\n",
    "                i, j = change_pos(i=i, j=j, new_i=i-1, new_j=j)\n",
    "\n",
    "            # We move down   \n",
    "            elif direction == 'down':\n",
    "                i, j = change_pos(i=i, j=j, new_i=i+1, new_j=j)\n",
    "\n",
    "        # We found the room name\n",
    "        else:\n",
    "            return find_room_on_same_row(i,j)\n",
    "\n",
    "\n",
    "\n",
    "def explore_vertical_moves(i_start: int, j_start: int):\n",
    "    i, j = i_start, j_start\n",
    "\n",
    "    # First step: one horizontal check at the starting point\n",
    "    if is_in_room_same_row(i, j):\n",
    "        return find_room_on_same_row(i, j)\n",
    "\n",
    "    # Second step: Move horizontally \n",
    "\n",
    "    # Initialize moving up\n",
    "    direction = 'left'\n",
    "    count = 0\n",
    "    while count < 50:\n",
    "        count += 1\n",
    "        # If the room name is not found in the column, we move horizontally\n",
    "        if not is_in_room_same_column(i, j):   \n",
    "\n",
    "            # If we reached the left side of the room ...\n",
    "            if direction == 'left' and rooms[i][j-1] in sep_chars:\n",
    "                # ...we set the direction to down for the next step...\n",
    "                direction = 'right' \n",
    "                # ...and get back to the initial position\n",
    "                i, j = change_pos(i=i, j=j, new_i=i, new_j=j_start)\n",
    "            \n",
    "            # If we reached the right siede of the room ...\n",
    "            if direction == 'right' and rooms[i][j+1] in sep_chars:\n",
    "                # The research has been unsuccesful\n",
    "                return 'not found'\n",
    "\n",
    "            # We move left\n",
    "            if direction == 'left':\n",
    "                i, j = change_pos(i=i, j=j, new_i=i, new_j=j-1)\n",
    "\n",
    "            # We move right   \n",
    "            elif direction == 'right':\n",
    "                i, j = change_pos(i=i, j=j, new_i=i, new_j=j+1)\n",
    "\n",
    "        # We found the room name\n",
    "        else:\n",
    "            return find_room_on_same_column(i,j)\n",
    "\n",
    "\n",
    "\n",
    "\n",
    "\n",
    "for k, coordinates in enumerate(list_pos_chairs):\n",
    "    if k+1 != 6:\n",
    "        i, j = coordinates\n",
    "        chair = dict_pos_chairs[coordinates]\n",
    "        rooms = remove_chairs(except_chair=coordinates)\n",
    "        room_of_chair = explore_horizontal_moves(i, j)\n",
    "        # Save it\n",
    "        dict_rooms_chairs[room_of_chair].append(chair)\n",
    "\n",
    "\n",
    "\n",
    "print(dict_rooms_chairs)\n",
    "# print(dict_rooms_chairs)\n",
    "print_of(rooms_init)"
   ]
  },
  {
   "cell_type": "markdown",
   "metadata": {},
   "source": [
    "#### To check later\n",
    "- In row exploration, case when letter under )"
   ]
  },
  {
   "cell_type": "markdown",
   "metadata": {},
   "source": [
    "##### Reasons to temporarily remove chairs\n",
    "\n",
    "- is room on the same column"
   ]
  },
  {
   "cell_type": "markdown",
   "metadata": {},
   "source": [
    "### Remaining steps\n",
    "\n",
    "1. Long way to the room name"
   ]
  },
  {
   "cell_type": "code",
   "execution_count": null,
   "metadata": {},
   "outputs": [],
   "source": []
  }
 ],
 "metadata": {
  "language_info": {
   "codemirror_mode": {
    "name": "ipython",
    "version": 3
   },
   "file_extension": ".py",
   "mimetype": "text/x-python",
   "name": "python",
   "nbconvert_exporter": "python",
   "pygments_lexer": "ipython3",
   "version": 3
  },
  "orig_nbformat": 2,
  "kernelspec": {
   "name": "python_defaultSpec_1594861042433",
   "display_name": "Python 3.8.3 64-bit ('chair-detection': conda)"
  }
 },
 "nbformat": 4,
 "nbformat_minor": 2
}