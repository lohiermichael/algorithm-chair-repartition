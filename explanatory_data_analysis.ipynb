{
 "cells": [
  {
   "cell_type": "markdown",
   "metadata": {},
   "source": [
    "# Explanatory Data Analysis (EDA)\n",
    "\n",
    "In this notebook, I am going to analyze the input data `room.txt` and guide you through my thinking process to find the solution to this problem."
   ]
  },
  {
   "cell_type": "code",
   "execution_count": 13,
   "metadata": {},
   "outputs": [],
   "source": [
    " from collections import Counter"
   ]
  },
  {
   "cell_type": "markdown",
   "metadata": {},
   "source": [
    "## First approch that comes to my mind\n",
    "\n",
    "1. Split the big string into multiple strings: one for each room\n",
    "2. For each string, extract the name of the corresponding room\n",
    "3. For each string, count the number of each chair\n",
    "4. Gather all the results to calculate the \"total\"\n",
    "\n",
    "The first step seems to be the most difficult."
   ]
  },
  {
   "cell_type": "markdown",
   "metadata": {},
   "source": [
    "## Read and transform the input data\n"
   ]
  },
  {
   "cell_type": "markdown",
   "metadata": {},
   "source": [
    "From the `task_en.txt` file, we can already extract information about the chairs:\n",
    "\n",
    "```\n",
    "The different types of chairs are as follows:\n",
    "W: wooden chair\n",
    "P: plastic chair\n",
    "S: sofa chair\n",
    "C: china chair\n",
    "```\n",
    "\n",
    "As we only need the capital letters in the following, we are going to save them in a `set` called `chairs`"
   ]
  },
  {
   "cell_type": "code",
   "execution_count": 25,
   "metadata": {},
   "outputs": [],
   "source": [
    "chairs = {'W', 'P', 'S', 'C'}"
   ]
  },
  {
   "cell_type": "markdown",
   "metadata": {},
   "source": [
    "### Import the data as a string"
   ]
  },
  {
   "cell_type": "code",
   "execution_count": 32,
   "metadata": {},
   "outputs": [
    {
     "output_type": "execute_result",
     "data": {
      "text/plain": "Counter({'+': 24,\n         '-': 240,\n         '\\n': 49,\n         '|': 124,\n         ' ': 2005,\n         '(': 8,\n         'c': 4,\n         'l': 5,\n         'o': 10,\n         's': 2,\n         'e': 6,\n         't': 5,\n         ')': 8,\n         'P': 7,\n         'S': 3,\n         'p': 1,\n         'i': 6,\n         'n': 4,\n         'g': 2,\n         'r': 3,\n         'm': 3,\n         'W': 14,\n         'f': 2,\n         'C': 1,\n         'b': 2,\n         'a': 2,\n         'h': 2,\n         'k': 1,\n         '/': 4,\n         'v': 1,\n         'y': 1})"
     },
     "metadata": {},
     "execution_count": 32
    }
   ],
   "source": [
    "with open('rooms.txt', 'r') as f:\n",
    "    rooms_string = f.read()\n",
    "Counter(rooms_string)"
   ]
  },
  {
   "cell_type": "markdown",
   "metadata": {},
   "source": [
    "From the function counter, we can already get a whole lot of information about the data:\n",
    "- The `'-'` and `'|'` are the strings that delimit the areas of the rooms. The room being longer than large: <br>```number_of('-') < number_of('|')```\n",
    "\n",
    "- The number of `'+'` gives the number of cornxzers in the apartment\n",
    "\n",
    "- The number of `'('` or `')'` gives the number of rooms\n",
    "\n",
    "- The number of `'\\n'` + 1 gives the length of the apartment\n",
    "\n",
    "- **Most importantly:** gathering the capital letters keys and their counts already gives the relevant information for the first output line of the problem: **total**. As we need to find the chair repartition in each room as well, the problem is not yet solved, but we can definitively:\n",
    "    1. Save the **total** result as a future check when we'll have gathered information for each room\n",
    "    2. Probably use t`dict`: `total`er` function later o*total* outputng the Python built-in object `dict` to save the `total` output"
   ]
  },
  {
   "cell_type": "code",
   "execution_count": 33,
   "metadata": {},
   "outputs": [
    {
     "output_type": "execute_result",
     "data": {
      "text/plain": "{'P': 7, 'S': 3, 'W': 14, 'C': 1}"
     },
     "metadata": {},
     "execution_count": 33
    }
   ],
   "source": [
    "total = {chair: Counter(rooms_string)[chair] for chair in Counter(rooms_string) if chair in chairs}\n",
    "total"
   ]
  },
  {
   "cell_type": "markdown",
   "metadata": {},
   "source": [
    "As the input  represents a 2D-plan, I think the best way to locate things in the plan is to transform it into a 2D-array."
   ]
  },
  {
   "cell_type": "code",
   "execution_count": 34,
   "metadata": {},
   "outputs": [
    {
     "output_type": "execute_result",
     "data": {
      "text/plain": "[['+-----------+------------------------------------+'],\n ['|           |                                    |'],\n ['| (closet)  |                                    |'],\n ['|         P |                            S       |'],\n ['|         P |         (sleeping room)            |'],\n ['|         P |                                    |'],\n ['|           |                                    |'],\n ['+-----------+    W                               |'],\n ['|           |                                    |'],\n ['|        W  |                                    |'],\n ['|           |                                    |'],\n ['|           +--------------+---------------------+'],\n ['|                          |                     |'],\n ['|                          |                W W  |'],\n ['|                          |    (office)         |'],\n ['|                          |                     |'],\n ['+--------------+           |                     |'],\n ['|              |           |                     |'],\n ['| (toilet)     |           |             P       |'],\n ['|   C          |           |                     |'],\n ['|              |           |                     |'],\n ['+--------------+           +---------------------+'],\n ['|              |           |                     |'],\n ['|              |           |                     |'],\n ['|              |           |                     |'],\n ['| (bathroom)   |           |      (kitchen)      |'],\n ['|              |           |                     |'],\n ['|              |           |      W   W          |'],\n ['|              |           |      W   W          |'],\n ['|       P      +           |                     |'],\n ['|             /            +---------------------+'],\n ['|            /                                   |'],\n ['|           /                                    |'],\n ['|          /                          W    W   W |'],\n ['+---------+                                      |'],\n ['|                                                |'],\n ['| S                                   W    W   W |'],\n ['|                (living room)                   |'],\n ['| S                                              |'],\n ['|                                                |'],\n ['|                                                |'],\n ['|                                                |'],\n ['|                                                |'],\n ['+--------------------------+---------------------+'],\n ['                           |                     |'],\n ['                           |                  P  |'],\n ['                           |  (balcony)          |'],\n ['                           |                 P   |'],\n ['                           |                     |'],\n ['                           +---------------------+']]"
     },
     "metadata": {},
     "execution_count": 34
    }
   ],
   "source": [
    "rooms = [[j for j in i.split('\\n')] for i in rooms_string.splitlines()]\n",
    "rooms"
   ]
  }
 ],
 "metadata": {
  "language_info": {
   "codemirror_mode": {
    "name": "ipython",
    "version": 3
   },
   "file_extension": ".py",
   "mimetype": "text/x-python",
   "name": "python",
   "nbconvert_exporter": "python",
   "pygments_lexer": "ipython3",
   "version": 3
  },
  "orig_nbformat": 2,
  "kernelspec": {
   "name": "python_defaultSpec_1594692568548",
   "display_name": "Python 3.8.3 64-bit ('chair-detection': conda)"
  }
 },
 "nbformat": 4,
 "nbformat_minor": 2
}