{
 "cells": [
  {
   "cell_type": "markdown",
   "metadata": {},
   "source": [
    "# Explanatory Data Analysis (EDA)\n",
    "\n",
    "In this notebook, I am going to analyze the input data `room.txt` and guide you through my thinking process to find the solution to this problem."
   ]
  },
  {
   "cell_type": "code",
   "execution_count": 1,
   "metadata": {},
   "outputs": [],
   "source": [
    " from collections import Counter, defaultdict\n",
    " import re"
   ]
  },
  {
   "cell_type": "markdown",
   "metadata": {},
   "source": [
    "## First approch that comes to my mind\n",
    "\n",
    "1. Split the big string into multiple strings: one for each room\n",
    "2. For each string, extract the name of the corresponding room\n",
    "3. For each string, count the number of each chair\n",
    "4. Gather all the results to calculate the \"total\"\n",
    "\n",
    "The first step seems to be the most difficult."
   ]
  },
  {
   "cell_type": "markdown",
   "metadata": {},
   "source": [
    "## Read and transform the input data\n"
   ]
  },
  {
   "cell_type": "markdown",
   "metadata": {},
   "source": [
    "From the `task_en.txt` file, we can already extract information about the chairs:\n",
    "\n",
    "```\n",
    "The different types of chairs are as follows:\n",
    "W: wooden chair\n",
    "P: plastic chair\n",
    "S: sofa chair\n",
    "C: china chair\n",
    "```\n",
    "\n",
    "As we only need the capital letters in the following, we are going to save them in a `set` called `chairs`"
   ]
  },
  {
   "cell_type": "code",
   "execution_count": 2,
   "metadata": {},
   "outputs": [],
   "source": [
    "chairs = {'W', 'P', 'S', 'C'}"
   ]
  },
  {
   "cell_type": "markdown",
   "metadata": {},
   "source": [
    "### Import the data as a string"
   ]
  },
  {
   "cell_type": "code",
   "execution_count": 3,
   "metadata": {},
   "outputs": [
    {
     "output_type": "execute_result",
     "data": {
      "text/plain": "Counter({'+': 24,\n         '-': 240,\n         '\\n': 49,\n         '|': 124,\n         ' ': 2005,\n         '(': 8,\n         'c': 4,\n         'l': 5,\n         'o': 10,\n         's': 2,\n         'e': 6,\n         't': 5,\n         ')': 8,\n         'P': 7,\n         'S': 3,\n         'p': 1,\n         'i': 6,\n         'n': 4,\n         'g': 2,\n         'r': 3,\n         'm': 3,\n         'W': 14,\n         'f': 2,\n         'C': 1,\n         'b': 2,\n         'a': 2,\n         'h': 2,\n         'k': 1,\n         '/': 4,\n         'v': 1,\n         'y': 1})"
     },
     "metadata": {},
     "execution_count": 3
    }
   ],
   "source": [
    "with open('rooms.txt', 'r') as f:\n",
    "    rooms_string = f.read()\n",
    "Counter(rooms_string)"
   ]
  },
  {
   "cell_type": "markdown",
   "metadata": {},
   "source": [
    "From the function counter, we can already get a whole lot of information about the data:\n",
    "- The `'-'`, `'|'` and `'/'` are the strings that delimit the areas of the rooms. The room being longer than large: <br>```number_of('-') < number_of('|')```\n",
    "\n",
    "- The number of `'+'` gives the number of cornxzers in the apartment\n",
    "\n",
    "- The number of `'('` or `')'` gives the number of rooms\n",
    "\n",
    "- The number of `'\\n'` + 1 gives the length of the apartment\n",
    "\n",
    "- **Most importantly:** gathering the capital letters keys and their counts already gives the relevant information for the first output line of the problem: **total**. As we need to find the chair repartition in each room as well, the problem is not yet solved, but we can definitively save the **total** result as a future check when the information of each room is gathered.\n",
    "\n",
    "### Observation\n",
    "\n",
    "According tho the `task_en.txt`, mistakes occured in the past when: *manually counting the various types of chairs*. This refers to the total number of chairs. \n",
    "\n",
    "I imagine a mistake being for example: forgetting a china chair. \n",
    "\n",
    "Considering that:\n",
    "- gathering only the toltal number of each type of chairs can be quickly implemented\n",
    "- this implementation will solve most of the client's problems\n",
    "- solving the problem of finding the repartition of the chairs in each room looks much more complex\n",
    "\n",
    "If I were given this problem in the context of my job, I would explain the client, the technical implications of the result that he would like to get. And I would propose him to experiment the quick-and-easy solution:\n",
    "- Use my program to know the total hetoltal number of each type of chairs"
   ]
  },
  {
   "cell_type": "code",
   "execution_count": 4,
   "metadata": {
    "tags": []
   },
   "outputs": [
    {
     "output_type": "stream",
     "name": "stdout",
     "text": "8\n"
    },
    {
     "output_type": "execute_result",
     "data": {
      "text/plain": "{'P': 7, 'S': 3, 'W': 14, 'C': 1}"
     },
     "metadata": {},
     "execution_count": 4
    }
   ],
   "source": [
    "n_rooms = Counter(rooms_string)['(']\n",
    "print(n_rooms)\n",
    "\n",
    "total = {chair: Counter(rooms_string)[chair] for chair in Counter(rooms_string) if chair in chairs}\n",
    "total"
   ]
  },
  {
   "cell_type": "markdown",
   "metadata": {},
   "source": [
    "As the input  represents a 2D-plan, I think the best way to locate things in the plan is to transform it into a 2D-array."
   ]
  },
  {
   "cell_type": "code",
   "execution_count": 5,
   "metadata": {},
   "outputs": [
    {
     "output_type": "execute_result",
     "data": {
      "text/plain": "['+-----------+------------------------------------+',\n '|           |                                    |',\n '| (closet)  |                                    |',\n '|         P |                            S       |',\n '|         P |         (sleeping room)            |',\n '|         P |                                    |',\n '|           |                                    |',\n '+-----------+    W                               |',\n '|           |                                    |',\n '|        W  |                                    |',\n '|           |                                    |',\n '|           +--------------+---------------------+',\n '|                          |                     |',\n '|                          |                W W  |',\n '|                          |    (office)         |',\n '|                          |                     |',\n '+--------------+           |                     |',\n '|              |           |                     |',\n '| (toilet)     |           |             P       |',\n '|   C          |           |                     |',\n '|              |           |                     |',\n '+--------------+           +---------------------+',\n '|              |           |                     |',\n '|              |           |                     |',\n '|              |           |                     |',\n '| (bathroom)   |           |      (kitchen)      |',\n '|              |           |                     |',\n '|              |           |      W   W          |',\n '|              |           |      W   W          |',\n '|       P      +           |                     |',\n '|             /            +---------------------+',\n '|            /                                   |',\n '|           /                                    |',\n '|          /                          W    W   W |',\n '+---------+                                      |',\n '|                                                |',\n '| S                                   W    W   W |',\n '|                (living room)                   |',\n '| S                                              |',\n '|                                                |',\n '|                                                |',\n '|                                                |',\n '|                                                |',\n '+--------------------------+---------------------+',\n '                           |                     |',\n '                           |                  P  |',\n '                           |  (balcony)          |',\n '                           |                 P   |',\n '                           |                     |',\n '                           +---------------------+']"
     },
     "metadata": {},
     "execution_count": 5
    }
   ],
   "source": [
    "rooms = [list([j for j in i.split('\\n')][0]) for i in rooms_string.splitlines()]\n",
    "\n",
    "def print_of(rooms):\n",
    "    return list(map(lambda L: ''.join(L), rooms))\n",
    "\n",
    "print_of(rooms)"
   ]
  },
  {
   "cell_type": "code",
   "execution_count": 6,
   "metadata": {},
   "outputs": [
    {
     "output_type": "execute_result",
     "data": {
      "text/plain": "['\\\\', '|', '/', '+', '-']"
     },
     "metadata": {},
     "execution_count": 6
    }
   ],
   "source": [
    "sep_chars = ['\\\\', '|', '/', '+', '-']\n",
    "sep_chars"
   ]
  },
  {
   "cell_type": "code",
   "execution_count": 7,
   "metadata": {
    "tags": []
   },
   "outputs": [
    {
     "output_type": "stream",
     "name": "stdout",
     "text": "\\\n"
    }
   ],
   "source": [
    "print(sep_chars[0])"
   ]
  },
  {
   "cell_type": "markdown",
   "metadata": {},
   "source": [
    "## Move letters approach"
   ]
  },
  {
   "cell_type": "code",
   "execution_count": 8,
   "metadata": {},
   "outputs": [
    {
     "output_type": "execute_result",
     "data": {
      "text/plain": "['+-----------+------------------------------------+',\n '|           |                                    |',\n '| (closet)  |                                    |',\n '|         P |                            S       |',\n '|         P |         (sleeping room)            |',\n '|         P |                                    |',\n '|           |                                    |',\n '+-----------+    W                               |',\n '|           |                                    |',\n '|        W  |                                    |',\n '|           |                                    |',\n '|           +--------------+---------------------+',\n '|                          |                     |',\n '|                          |                W W  |',\n '|                          |    (office)         |',\n '|                          |                     |',\n '+--------------+           |                     |',\n '|              |           |                     |',\n '| (toilet)     |           |             P       |',\n '|   C          |           |                     |',\n '|              |           |                     |',\n '+--------------+           +---------------------+',\n '|              |           |                     |',\n '|              |           |                     |',\n '|              |           |                     |',\n '| (bathroom)   |           |      (kitchen)      |',\n '|              |           |                     |',\n '|              |           |      W   W          |',\n '|              |           |      W   W          |',\n '|       P      +           |                     |',\n '|             /            +---------------------+',\n '|            /                                   |',\n '|           /                                    |',\n '|          /                          W    W   W |',\n '+---------+                                      |',\n '|                                                |',\n '| S                                   W    W   W |',\n '|                (living room)                   |',\n '| S                                              |',\n '|                                                |',\n '|                                                |',\n '|                                                |',\n '|                                                |',\n '+--------------------------+---------------------+',\n '                           |                     |',\n '                           |                  P  |',\n '                           |  (balcony)          |',\n '                           |                 P   |',\n '                           |                     |',\n '                           +---------------------+']"
     },
     "metadata": {},
     "execution_count": 8
    }
   ],
   "source": [
    "rooms = [list([j for j in i.split('\\n')][0]) for i in rooms_string.splitlines()]\n",
    "\n",
    "def print_of(rooms):\n",
    "    return list(map(lambda L: ''.join(L), rooms))\n",
    "\n",
    "print_of(rooms)"
   ]
  },
  {
   "cell_type": "code",
   "execution_count": 9,
   "metadata": {
    "tags": []
   },
   "outputs": [
    {
     "output_type": "stream",
     "name": "stdout",
     "text": "{(3, 10): 'P', (3, 41): 'S', (4, 10): 'P', (5, 10): 'P', (7, 17): 'W', (9, 9): 'W', (13, 44): 'W', (13, 46): 'W', (18, 41): 'P', (19, 4): 'C', (27, 34): 'W', (27, 38): 'W', (28, 34): 'W', (28, 38): 'W', (29, 8): 'P', (33, 38): 'W', (33, 43): 'W', (33, 47): 'W', (36, 2): 'S', (36, 38): 'W', (36, 43): 'W', (36, 47): 'W', (38, 2): 'S', (45, 46): 'P', (47, 45): 'P'}\n"
    },
    {
     "output_type": "execute_result",
     "data": {
      "text/plain": "[(3, 10),\n (3, 41),\n (4, 10),\n (5, 10),\n (7, 17),\n (9, 9),\n (13, 44),\n (13, 46),\n (18, 41),\n (19, 4),\n (27, 34),\n (27, 38),\n (28, 34),\n (28, 38),\n (29, 8),\n (33, 38),\n (33, 43),\n (33, 47),\n (36, 2),\n (36, 38),\n (36, 43),\n (36, 47),\n (38, 2),\n (45, 46),\n (47, 45)]"
     },
     "metadata": {},
     "execution_count": 9
    }
   ],
   "source": [
    "dict_pos_chairs = {}\n",
    "for i, row in enumerate(rooms):\n",
    "    for j, element in enumerate(row):\n",
    "        if element in chairs:\n",
    "            dict_pos_chairs[(i, j)] = element\n",
    "            # room = search_room(i, j)\n",
    "            # rooms_chairs[room][element] += 1\n",
    "\n",
    "print(dict_pos_chairs)\n",
    "list_pos_chairs = list(dict_pos_chairs.keys())\n",
    "list_pos_chairs.sort(key=lambda x: (x[0],x[1]))\n",
    "list_pos_chairs"
   ]
  },
  {
   "cell_type": "code",
   "execution_count": 28,
   "metadata": {
    "tags": []
   },
   "outputs": [
    {
     "output_type": "stream",
     "name": "stdout",
     "text": "3 10 P\n3 41 S\n4 10 P\n5 10 P\n7 17 W\n13 44 W\n13 46 W\n18 41 P\n45 46 P\n47 45 P\ndefaultdict(<class 'list'>, {'closet': ['P', 'P', 'P'], 'sleepingroom': ['S', 'W'], 'office': ['W', 'W', 'P'], 'balcony': ['P', 'P']})\n"
    },
    {
     "output_type": "execute_result",
     "data": {
      "text/plain": "['+-----------+------------------------------------+',\n '|           |                                    |',\n '| (closet)  |                                    |',\n '|           |                                    |',\n '|           |         (sleeping room)            |',\n '|           |                                    |',\n '|           |                                    |',\n '+-----------+                                    |',\n '|           |                                    |',\n '|        W  |                                    |',\n '|           |                                    |',\n '|           +--------------+---------------------+',\n '|                          |                     |',\n '|                          |                     |',\n '|                          |    (office)         |',\n '|                          |                     |',\n '+--------------+           |                     |',\n '|              |           |                     |',\n '| (toilet)     |           |                     |',\n '|   C          |           |                     |',\n '|              |           |                     |',\n '+--------------+           +---------------------+',\n '|              |           |                     |',\n '|              |           |                     |',\n '|              |           |                     |',\n '| (bathroom)   |           |      (kitchen)      |',\n '|              |           |                     |',\n '|              |           |      W   W          |',\n '|              |           |      W   W          |',\n '|       P      +           |                     |',\n '|             /            +---------------------+',\n '|            /                                   |',\n '|           /                                    |',\n '|          /                          W    W   W |',\n '+---------+                                      |',\n '|                                                |',\n '| S                                   W    W   W |',\n '|                (living room)                   |',\n '| S                                              |',\n '|                                                |',\n '|                                                |',\n '|                                                |',\n '|                                                |',\n '+--------------------------+---------------------+',\n '                           |                     |',\n '                           |                     |',\n '                           |  (balcony)          |',\n '                           |                     |',\n '                           |                     |',\n '                           +---------------------+']"
     },
     "metadata": {},
     "execution_count": 28
    }
   ],
   "source": [
    "rooms = [list([j for j in i.split('\\n')][0]) for i in rooms_string.splitlines()]\n",
    "dict_rooms_chairs = defaultdict(list)\n",
    "\n",
    "def is_in_room_same_row(i, j):\n",
    "    chair = rooms[i][j]\n",
    "    row_no_space = list(filter(lambda e: e != ' ', rooms[i]))\n",
    "    return row_no_space[row_no_space.index(chair)+1] == '(' or row_no_space[row_no_space.index(chair)-1] == ')'\n",
    "\n",
    "\n",
    "\n",
    "def find_room_on_same_row(i, j):\n",
    "    chair = rooms[i][j]\n",
    "    row = list(filter(lambda e: e != ' ', rooms[i]))\n",
    "    j = row.index(chair)\n",
    "    if row[j+1]  == '(':\n",
    "        str_to_inspect = ''.join(row[j+1:])\n",
    "        return re.split('\\(|\\)', str_to_inspect)[1]\n",
    "    elif row[j-1] == ')':\n",
    "        str_to_inspect = ''.join(row[:j-1])\n",
    "        return re.split('\\(|\\)', str_to_inspect)[-1]\n",
    "\n",
    "def change_pos(i, j, new_i, new_j):\n",
    "    rooms[i][j], rooms[new_i][new_j] = rooms[new_i][new_j], rooms[i][j]\n",
    "    i, j = new_i, new_j\n",
    "    return i, j\n",
    "\n",
    "\n",
    "     \n",
    "\n",
    "def search_room(i_start: int, j_start: int):\n",
    "    i, j = i_start, j_start\n",
    "    chair = rooms[i][j]\n",
    "    direction = 'up'\n",
    "    while not is_in_room_same_row(i, j):\n",
    "        if rooms[i-1][j] in sep_chars: # We cannot go up\n",
    "            direction = 'down' # We go down\n",
    "            # Back to the initial position\n",
    "            i, j = change_pos(i=i, j=j, new_i=i_start, new_j=j)\n",
    "\n",
    "        if direction == 'up':\n",
    "            i, j = change_pos(i=i, j=j, new_i=i-1, new_j=j)\n",
    "        elif direction == 'down':\n",
    "\n",
    "            i, j = change_pos(i=i, j=j, new_i=i+1, new_j=j)\n",
    "\n",
    "\n",
    "\n",
    "\n",
    "    room_of_chair = find_room_on_same_row(i,j)\n",
    "    # Pop chair\n",
    "    rooms[i][j] = ' '\n",
    "    # Save it\n",
    "    dict_rooms_chairs[room_of_chair].append(chair)\n",
    "\n",
    "for k, pairs in enumerate(list_pos_chairs):\n",
    "    # if k+1 in [1, 2, 3, 4, 5, 7, 8, 9, 16, 17]:\n",
    "    if k+1 in [1, 2, 3, 4, 5, 7, 8, 9, 24, 25]:\n",
    "    # if k in [18, 19, 20]:\n",
    "        i, j = pairs\n",
    "        print(i, j, dict_pos_chairs[pairs])\n",
    "        search_room(i, j)\n",
    "\n",
    "\n",
    "\n",
    "print(dict_rooms_chairs)\n",
    "print_of(rooms)"
   ]
  },
  {
   "cell_type": "markdown",
   "metadata": {},
   "source": []
  },
  {
   "cell_type": "markdown",
   "metadata": {},
   "source": [
    "### Remaining steps\n",
    "\n",
    "1. Chair above or under the room name\n",
    "2. Chairs on the same column\n",
    "3. Long way to the room name"
   ]
  },
  {
   "cell_type": "code",
   "execution_count": null,
   "metadata": {},
   "outputs": [],
   "source": []
  },
  {
   "cell_type": "code",
   "execution_count": null,
   "metadata": {},
   "outputs": [],
   "source": []
  },
  {
   "cell_type": "code",
   "execution_count": null,
   "metadata": {},
   "outputs": [],
   "source": []
  },
  {
   "cell_type": "code",
   "execution_count": null,
   "metadata": {},
   "outputs": [],
   "source": []
  },
  {
   "cell_type": "code",
   "execution_count": null,
   "metadata": {},
   "outputs": [],
   "source": []
  },
  {
   "cell_type": "markdown",
   "metadata": {},
   "source": [
    "## Descent approach"
   ]
  },
  {
   "cell_type": "code",
   "execution_count": null,
   "metadata": {
    "tags": []
   },
   "outputs": [],
   "source": [
    "\n",
    "\n",
    "\n",
    "chairs_current_rooms = None\n",
    "for row in rooms:\n",
    "    count_number_rooms = sum(row[1:-1].count(sep_char) for sep_char in sep_chars) + 1\n",
    "    if not chairs_current_rooms:\n",
    "        chairs_current_rooms = [{'room_name': None, 'chairs': defaultdict(int)} for _ in range(count_number_rooms)]\n",
    "\n",
    "\n",
    "    print(count_number_rooms)\n",
    "\n",
    "    info_rooms = row[1: -1].replace(' ', '').split('|')\n",
    "    \n",
    "    if '-' in row:\n",
    "        print('CHANGE ROOM')\n",
    "        print(info_rooms)\n",
    "\n",
    "\n",
    "    for room_number, info in enumerate(info_rooms):\n",
    "        if not info:\n",
    "            pass\n",
    "        elif info.startswith('('):\n",
    "            chairs_current_rooms[room_number]['room_name'] =  info[1:-1]\n",
    "        elif info in chairs:\n",
    "            chairs_current_rooms[room_number]['chairs'][info]  += 1\n",
    "\n",
    "    print(chairs_current_rooms)\n",
    "    print('\\n')\n",
    "        \n"
   ]
  },
  {
   "cell_type": "markdown",
   "metadata": {},
   "source": []
  }
 ],
 "metadata": {
  "language_info": {
   "codemirror_mode": {
    "name": "ipython",
    "version": 3
   },
   "file_extension": ".py",
   "mimetype": "text/x-python",
   "name": "python",
   "nbconvert_exporter": "python",
   "pygments_lexer": "ipython3",
   "version": 3
  },
  "orig_nbformat": 2,
  "kernelspec": {
   "name": "python_defaultSpec_1594785447246",
   "display_name": "Python 3.8.3 64-bit ('chair-detection': conda)"
  }
 },
 "nbformat": 4,
 "nbformat_minor": 2
}