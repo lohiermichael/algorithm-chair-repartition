{
 "cells": [
  {
   "cell_type": "markdown",
   "metadata": {},
   "source": [
    "# Explanatory Data Analysis (EDA)\n",
    "\n",
    "In this notebook, I am going to analyze the input data `room.txt` and guide you through my thinking process to find the solution to this problem."
   ]
  },
  {
   "cell_type": "markdown",
   "metadata": {},
   "source": [
    "## First approch that comes to my mind\n",
    "\n",
    "1. Split the big string into multiple strings: one for each room\n",
    "2. For each string, extract the name of the corresponding room\n",
    "3. For each string, count the number of each chair\n",
    "4. Gather all the results to calculate the \"total\""
   ]
  }
 ],
 "metadata": {
  "language_info": {
   "codemirror_mode": {
    "name": "ipython",
    "version": 3
   },
   "file_extension": ".py",
   "mimetype": "text/x-python",
   "name": "python",
   "nbconvert_exporter": "python",
   "pygments_lexer": "ipython3",
   "version": 3
  },
  "orig_nbformat": 2,
  "kernelspec": {
   "name": "python_defaultSpec_1594692568548",
   "display_name": "Python 3.8.3 64-bit ('chair-detection': conda)"
  }
 },
 "nbformat": 4,
 "nbformat_minor": 2
}